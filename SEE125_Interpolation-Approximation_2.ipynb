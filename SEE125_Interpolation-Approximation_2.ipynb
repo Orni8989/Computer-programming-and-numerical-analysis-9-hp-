{
 "cells": [
  {
   "cell_type": "markdown",
   "metadata": {},
   "source": [
    "### Recap:\n",
    "\n",
    "## Problem statement:\n",
    "    \n",
    "Learn how to approximate a function, if you are given its values at discrete points. \n",
    "\n",
    "Let's say we know the function's values at points $x_j$, namely $f(x_j)$. \n",
    "\n",
    "We can find an *approximation* to the function $f(x)$, by a function $p (x)$. We can decompose the function $p(x)$ into a set of basis functions $\\phi(x)$, multiplied by some coefficients $c_k$:\n",
    "\n",
    "$ p(x) = \\sum_{k=0}^{n-1} c_k \\phi_k(x)$.\n",
    "\n",
    "We will assume that the $\\phi_k$ are linearly independent.\n",
    "\n",
    "There are two distinct approaches of figuring out the right form for $p(x)$:\n",
    "- interpolation\n",
    "- approximation\n",
    "\n",
    "# Interpolation II"
   ]
  },
  {
   "cell_type": "markdown",
   "metadata": {},
   "source": [
    "## Background: the Fourier series expansion\n",
    "\n",
    "A function $f(x)$ that is continuous and periodic can be expanded in an infinite series of sines and cosines, known as the Fourier series. \n",
    "\n",
    "Let us consider the function $f(x)$, which is real-valued, continuous and has a period of $2\\pi$. Its Fourier series expansion is:\n",
    "\n",
    "\\begin{equation}\n",
    "f(x) = \\frac{a_0}{2} + \\sum_{k=1}^{\\infty} (a_k cos(kx) + b_k sin(kx)) \\,\\,\\,\\, (1)\n",
    "\\end{equation}\n",
    "\n",
    "This a sun of increasingly higher frequency (smaller wavelength) cosine and sine waves.\n",
    "\n",
    "The coefficients of the cosines and sines are given by:\n",
    "\n",
    "\\begin{equation}\n",
    "a_k = \\frac{1}{\\pi} \\int_0^{2\\pi} f(x)cos(kx) dx, \\,\\, k=0, 1, ...\n",
    "\\end{equation}\n",
    "\n",
    "\\begin{equation}\n",
    "b_k = \\frac{1}{\\pi} \\int_0^{2\\pi} f(x)sin(kx) dx, \\,\\, k = 1, 2, ...\n",
    "\\end{equation}\n",
    "\n",
    "The Fourier series can also be written with the use of complex exponentials, describing also complex-valued functions. "
   ]
  },
  {
   "cell_type": "markdown",
   "metadata": {},
   "source": [
    "Below you can see how the expansion works for the case of a square wave (a piece-wise constant periodic function, which alternates from values of 1 to -1 and back again). Change the number of terms k used in the expansion to see how the series gets closer to the true function.\n",
    "\n",
    "#### Example of Fourier series expansion for the case of a square wave"
   ]
  },
  {
   "cell_type": "code",
   "execution_count": 12,
   "metadata": {},
   "outputs": [
    {
     "data": {
      "image/png": "[encoded data removed]",
      "text/plain": [
       "<Figure size 432x288 with 1 Axes>"
      ]
     },
     "metadata": {
      "needs_background": "light"
     },
     "output_type": "display_data"
    }
   ],
   "source": [
    "import numpy as np\n",
    "\n",
    "import matplotlib.pyplot as plt\n",
    "\n",
    "from scipy.signal import square\n",
    "\n",
    "from scipy.integrate import quad # a method for solving an integral (we will see this in more detail next week)\n",
    "\n",
    "x=np.arange(0,2*np.pi,0.001) \n",
    "\n",
    "\n",
    "y=square(x) #defining square wave function\n",
    "\n",
    "# Define the integrands found inside the integrals for a_k and b_k\n",
    "fc=lambda x:square(x)*np.cos(i*x) \n",
    "\n",
    "fs=lambda x:square(x)*np.sin(i*x)\n",
    "\n",
    "k=2 #number of terms in sum, not taken infinity, better result with high value\n",
    "\n",
    "Ak=[] \n",
    "\n",
    "Bk=[]\n",
    "\n",
    "the_sum=0\n",
    "\n",
    "for i in range(k):\n",
    "    # compute a_k by integration\n",
    "    ak=quad(fc,0,2*np.pi)[0]*(1.0/np.pi)\n",
    "\n",
    "    Ak.append(ak)\n",
    "\n",
    "for i in range(k):\n",
    "    # note that for k = 0 the expression for b_0 evaluates to 0\n",
    "    \n",
    "    # compute b_k by integration\n",
    "    bk=quad(fs,0,2*np.pi)[0]*(1.0/np.pi)\n",
    "\n",
    "    Bk.append(bk)\n",
    "\n",
    "for i in range(k):\n",
    "\n",
    "    if i==0.0:\n",
    "\n",
    "        the_sum+=Ak[i]/2\n",
    "\n",
    "    else:\n",
    "\n",
    "        the_sum+=(Ak[i]*np.cos(i*x)+Bk[i]*np.sin(i*x))\n",
    "\n",
    "\n",
    "plt.plot(x,y,'k',lw = '3', label = 'f(x)')\n",
    "\n",
    "plt.plot(x,the_sum,'r', label = '%d terms'%k)\n",
    "\n",
    "\n",
    "plt.title(\"fourier series for square wave\")\n",
    "\n",
    "plt.xlabel('x')\n",
    "plt.ylabel('y')\n",
    "plt.legend()\n",
    "plt.show()"
   ]
  },
  {
   "cell_type": "markdown",
   "metadata": {},
   "source": [
    "## Polynomial interpolation in the case of periodic data: sines and cosines\n",
    "\n",
    "If our data are periodic, then our interpolating function $p(x)$ that tries to describe the true underlying function $f(x)$, should also be periodic.\n",
    "\n",
    "The true function $f(x)$ can be decomposed in a Fourier series (assuming it is reasonably continuous):\n",
    "\n",
    "\\begin{equation}\n",
    "f(x) = \\frac{a_0}{2} + \\sum_{k=1}^{\\infty} (a_k cos(kx) + b_k sin(kx)) \\,\\,\\,\\, (1)\n",
    "\\end{equation}\n",
    "\n",
    "\n",
    "For simplicity we will focus on the interval [0,2$\\pi$). \n",
    "In the case that our data are periodic in time, t, we can generalize to the interval [0,T) where T is the period, with data points: $x = 2\\pi t/T$.\n",
    "\n",
    "Note that since the function is periodic, $f(0) = f(2\\pi)$, and therefore there is no extra information at the point $2\\pi$.\n",
    "\n",
    "\n",
    "#### How can we define our interpolating function?\n",
    "Say we have measured $f(x_j) = y_j$ at n points $x_j$ which are *equidistant in the interval [0, 2\\pi)*: $x_j = 2\\pi j/n$.\n",
    "\n",
    "Since we only know the value of $f$ at the n distinct values of $x_j$, we won't be able to determine infinitely many $a_k, b_k$ coefficients from the Fourier series. Instead, we need to truncate the series (1). Since we have n data points, there will be n equations $y_j = p(x_j)$ that we can use to solve for some of the unknown $a_k, b_k$ parameters. This means we can only find n of these parameters. If n is an odd number: n = 2m+1 (where m is an integer), then our interpolating function $p$ takes the form:\n",
    "\n",
    "\\begin{equation}\n",
    "p(x) = \\frac{1}{2} a_0 + \\sum_{k=1}^{m} (a_k coskx + b_k sinkx)\n",
    "\\end{equation}\n",
    "\n",
    "In the case of n even, n = 2m and the interpolating function takes the form:\n",
    "\n",
    "\\begin{equation}\n",
    "p(x) = \\frac{1}{2} a_0 + \\sum_{k=1}^{m-1} (a_k coskx + b_k sinkx) + \\frac{1}{2} a_m cosmx\n",
    "\\end{equation}\n",
    "\n",
    "A simple case:\n",
    "If the function $f(x)$ is a simple cosine with a wavelength $\\lambda = 2\\pi \\cdot 4/n$, then we expect to find all but one $a_k$ to be zero (or negligibly small in absolute terms). The non-zero $a_k$ will correspond to the k where: $k = \\frac{2\\pi}{\\lambda}$, so in this case we will find for the non-zero $a_k$ term is $k =  n/4$."
   ]
  },
  {
   "cell_type": "markdown",
   "metadata": {},
   "source": [
    "To solve for the coefficients $a_k, b_k$ we need to use some properties of series where sines and cosines appear. The following relations are known as orthogonality relations for sines and cosines in the discrete case. That is, for our equally spaced grid one can show that (we will not do this):\n",
    "\n",
    "\\begin{equation}\n",
    "\\sum_{j=0}^{n-1} coskx_j coslx_j =   \\left\\{\n",
    "\\begin{array}{ll}\n",
    "      0 & k\\neq l \\\\\n",
    "      m & 0 < k = l < m \\,\\,\\,\\,\\,\\,\\,\\,\\,\\,\\,\\,\\,\\,\\,\\,\\,\\,\\,\\,(2)   \\\\    \n",
    "      2m & k = l = 0 \\,\\,{\\rm{or}} \\,\\,k = l = m   \n",
    "\\end{array} \n",
    "\\right.\n",
    "\\end{equation}\n",
    "\n",
    "\\begin{equation}\n",
    "\\sum_{j=0}^{n-1} coskx_j sinlx_j =   0 \\,\\,\\,\\,\\,\\,\\,\\,\\,(3) \n",
    "\\end{equation}\n",
    "\n",
    "\\begin{equation}\n",
    "\\sum_{j=0}^{n-1} sinkx_j sinlx_j =   \\left\\{\n",
    "\\begin{array}{ll}\n",
    "      0 & k\\neq l \\\\\n",
    "      m & 0 < k = l < m \\,\\,\\,\\,\\,\\,\\,\\,\\,\\,\\,\\,\\,\\,\\,\\,\\,\\,\\,\\,(4)\\\\\n",
    "      0 & k = l = 0 \\,\\,{\\rm{or}} \\,\\,k = l = m \n",
    "\\end{array} \n",
    "\\right.\n",
    "\\end{equation}\n",
    "\n",
    "\n",
    "\n",
    "\n",
    "<font color='red'>Class exercise: Derive the equations shown below for the parameters $a_k, b_k$.</font>\n",
    "\n",
    "The final equations we can use to find the parameters $a_k, b_k$ are:\n",
    "\n",
    "\\begin{equation}\n",
    "a_k = \\frac{1}{m} \\sum_{j=0}^{n-1} y_j coskx_j, \\,\\,\\,\\,\\,k = 0, 1, ....,m \n",
    "\\end{equation}\n",
    "\n",
    "\\begin{equation}\n",
    "b_k = \\frac{1}{m} \\sum_{j=0}^{n-1} y_j sinkx_j, \\,\\,\\,\\,\\,k = 1,2,...,m-1 \n",
    "\\end{equation}\n",
    "\n",
    "\n",
    "A problem in the assignment asks you to implement this interpolation method in Python. You can also check out the relevant section in the Numerical methods book, 6.4.2 Finite Series: Trigonometric interpolation."
   ]
  },
  {
   "cell_type": "markdown",
   "metadata": {},
   "source": [
    "# Approximation"
   ]
  },
  {
   "cell_type": "markdown",
   "metadata": {},
   "source": [
    "## Approximation with linear models\n",
    "\n",
    "We have $n$ data points $x_j, y_j, j = 0\\ldots n-1$ and want to approximate the relation between $x$ and $y$ \n",
    "with a linear combination of $N$ functions $\\phi_k, k = 0\\ldots N-1$:\n",
    "\n",
    "$$y_j = c_0 \\phi_0(x_j) + c_1 \\phi_1(x_j) + \\ldots c_{N-1} \\phi_{N-1}(x_j)$$\n",
    "\n",
    "We assume that $n > N$, i.e. we have more data points than functions. *Remember in the interpolation case, we had $N = n$!*\n",
    "\n",
    "> Note, that the relation between $y$ and $x$ is **linear in the coefficients** $c_k$, not in $x$!"
   ]
  },
  {
   "cell_type": "markdown",
   "metadata": {},
   "source": [
    "## Case 1: no uncertainties in the data (or all points have equal uncertainties)"
   ]
  },
  {
   "cell_type": "markdown",
   "metadata": {},
   "source": [
    "### Example: fitting a straight line\n",
    "\n",
    "$$y_j = c_0 \\cdot 1 + c_1 \\cdot x_j = c_0 + c_1 x_j$$\n",
    "\n",
    "So here $\\phi_0 = 1$ and $\\phi_1 = x$. \n",
    "\n",
    "We want to find the coefficients $c_0, c_1$ which minimize the quadratic deviations\n",
    "(\"least squares\"):\n",
    "\n",
    "$$\\min_{c_0,c_1} \\cal{F(c_0, c_1)} = \\min_{c_0,c_1}\\sum_{i=0}^{m-1} \\big(y_j - (c_0 + c_1 x_j)\\big)^2$$"
   ]
  },
  {
   "cell_type": "markdown",
   "metadata": {},
   "source": [
    "We can find that minimum by differentiating with respect to $c_0$ and $c_1$ and setting the derivatives equal to zero:\n",
    "\n",
    "\\begin{eqnarray}\n",
    "0 = \\frac{\\partial \\cal{F}}{\\partial c_0} & = & - \\sum_{j=0}^{n-1} 2\\big(y_j - c_0 - c_1 x_j \\big) \\\\\n",
    "0 = \\frac{\\partial \\cal{F}}{\\partial c_1} & = & - \\sum_{j=0}^{n-1} 2\\big((y_j - c_0 - c_1 x_j) x_j \\big)\n",
    "\\end{eqnarray}\n",
    "\n",
    "Taking constants out of the sum and sorting terms, we get:\n",
    "\n",
    "$$\\begin{pmatrix}\n",
    "\\sum_{j=0}^{n-1} 1 & \\sum_{j=0}^{n-1} x_j \\\\\n",
    "\\sum_{j=0}^{n-1} x_j & \\sum_{j=0}^{n-1} x_j^2\n",
    "\\end{pmatrix}  \n",
    "\\begin{pmatrix}\n",
    "c_0 \\\\\n",
    "c_1\n",
    "\\end{pmatrix} = \n",
    "\\begin{pmatrix}\n",
    "\\sum_{j=0}^{n-1} y_j \\\\\n",
    "\\sum_{j=0}^{n-1} x_j y_j\n",
    "\\end{pmatrix}\n",
    "$$\n",
    "\n",
    "Which is a system of linear equations, which can easily be solved to get $c_0$ and $c_1$.\n",
    "\n",
    "Note, that the matrix \n",
    "$$\\mathbf{A} = \\begin{pmatrix}\n",
    "\\sum_{j=0}^{n-1} 1 & \\sum_{j=0}^{n-1} x_j \\\\\n",
    "\\sum_{j=0}^{n-1} x_j & \\sum_{j=0}^{n-1} x_j^2\n",
    "\\end{pmatrix}$$\n",
    "\n",
    "can be written as \n",
    "\n",
    "$$\\mathbf{A} = \\mathbf{D}^{\\mathsf{T}} \\mathbf{D}, \\quad {\\rm where} \\quad \\mathbf{D} = \n",
    "\\begin{pmatrix}\n",
    "1 & x_0 \\\\\n",
    "1 & x_1 \\\\\n",
    "\\vdots & \\vdots \\\\\n",
    "1 & x_{n-1}\n",
    "\\end{pmatrix}$$\n",
    "\n",
    "and where $\\mathbf{D}$ is the design matrix of this problem, which in this case is the Vandermonde matrix we have used for interpolation before. However, we are only using the first $n$ columns of the Vandermonde matrix, \n",
    "where $n$ is the order of the polynomial we want to fit.\n",
    "\n",
    "\n",
    "We can write the vector\n",
    "$$ \\vec{y} = \n",
    "\\begin{pmatrix}\n",
    "y_0\\\\\n",
    "y_1\\\\\n",
    "\\vdots\\\\\n",
    "y_{n-1}\n",
    "\\end{pmatrix}\n",
    "$$\n",
    "then:\n",
    "\n",
    "$$\\mathbf{D}^{\\mathsf{T}} \\vec{y} = \\begin{pmatrix}\n",
    "1 & 1 & ...& 1\\\\\n",
    "x_0  & x_1 & ... & x_{n-1}\n",
    "\\end{pmatrix}\n",
    "\\begin{pmatrix}\n",
    "y_0\\\\\n",
    "y_1\\\\\n",
    "\\vdots\\\\\n",
    "y_{n-1}\n",
    "\\end{pmatrix} = \n",
    "\\begin{pmatrix}\n",
    "\\sum_{j=0}^{n-1} x_j\\\\\n",
    "\\sum_{j=0}^{n-1} x_j y_j\\\\\n",
    "\\end{pmatrix}\n",
    "$$\n",
    "\n",
    "In short, the system of linear equations we solve is written as:\n",
    "\n",
    "$$ \\mathbf{D}^{\\mathsf{T}} \\mathbf{D} \\vec{c} = \\mathbf{D}^{\\mathsf{T}} \\vec{y}$$"
   ]
  },
  {
   "cell_type": "code",
   "execution_count": 4,
   "metadata": {},
   "outputs": [
    {
     "data": {
      "image/png": "[encoded data removed]",
      "text/plain": [
       "<Figure size 432x288 with 1 Axes>"
      ]
     },
     "metadata": {
      "needs_background": "light"
     },
     "output_type": "display_data"
    },
    {
     "data": {
      "text/plain": [
       "array([3.01861857, 2.00966428])"
      ]
     },
     "execution_count": 4,
     "metadata": {},
     "output_type": "execute_result"
    }
   ],
   "source": [
    "import math\n",
    "import numpy as np\n",
    "import matplotlib.pyplot as plt\n",
    "\n",
    "M = 37\n",
    "x = np.linspace(0.0, 1.0, M)\n",
    "y = 2.0*x + 3.0 + 0.1*np.random.randn(M)\n",
    "plt.scatter(x, y)\n",
    "plt.show()\n",
    "\n",
    "D = np.zeros((M, 2))\n",
    "D[:, 0] = np.ones(M)\n",
    "D[:, 1] = x\n",
    "\n",
    "A = np.transpose(D) @ D\n",
    "b = np.transpose(D) @ y\n",
    "c = np.linalg.solve(A, b)\n",
    "c                            # we expect [c[0] = 2.0, c[1] = 3.0]"
   ]
  },
  {
   "cell_type": "code",
   "execution_count": 5,
   "metadata": {},
   "outputs": [
    {
     "data": {
      "image/png": "[encoded data removed]",
      "text/plain": [
       "<Figure size 432x288 with 1 Axes>"
      ]
     },
     "metadata": {
      "needs_background": "light"
     },
     "output_type": "display_data"
    }
   ],
   "source": [
    "plt.scatter(x, y)\n",
    "plt.plot(x, c[1]*x + c[0], color='red')\n",
    "plt.show()"
   ]
  },
  {
   "cell_type": "markdown",
   "metadata": {},
   "source": [
    "### General example (fitting a more general function)\n",
    "\n",
    "It turns out, that in the general case\n",
    "\n",
    "$$y_j = c_0 \\phi_0(x_j) + c_1 \\phi_1(x_j) + \\ldots c_{N-1} \\phi_{N-1}(x_j)$$\n",
    "\n",
    "you will simply have to calculate your design matrix as \n",
    "\n",
    "$$\\mathbf{D} = \n",
    "\\begin{pmatrix}\n",
    "\\phi_0(x_0) & \\phi_1(x_0) & \\ldots & \\phi_{N-1}({x_0}) \\\\\n",
    "\\phi_0(x_1) & \\phi_1(x_1) & \\ldots & \\phi_{N-1}({x_1}) \\\\\n",
    "\\vdots & \\vdots & \\ddots & \\vdots \\\\\n",
    "\\phi_0(x_{n-1}) & \\phi_1(x_{n-1}) & \\ldots & \\phi_{N-1}({x_{n-1}})\n",
    "\\end{pmatrix}$$\n",
    "\n",
    "and we solve the same type of linear system:\n",
    "\n",
    "$$\\mathbf{D}^{\\mathsf{T}} \\mathbf{D} \\vec{c} = \\mathbf{D}^{\\mathsf{T}} \\vec{y}$$"
   ]
  },
  {
   "cell_type": "markdown",
   "metadata": {},
   "source": [
    "### Example 2: fitting a sinusoidal function\n",
    "\n",
    "$$y_j = a \\cos(x_j + \\theta)$$\n",
    "\n",
    "with two parameters $a$ and $\\theta$. But that relation is **not** linear in the parameter $\\theta$, so we rewrite the equation as\n",
    "\n",
    "$$y_j = a \\big(\\cos x_j \\cos \\theta - \\sin x_j \\sin \\theta \\big) = (a\\cos \\theta)\\cos x_j - (a\\sin\\theta)\\sin x_j$$\n",
    "\n",
    "So our design matrix becomes\n",
    "\n",
    "$$\\mathbf{D} = \n",
    "\\begin{pmatrix}\n",
    "\\cos x_0 & \\sin x_0 \\\\\n",
    "\\cos x_1 & \\sin x_1 \\\\\n",
    "\\vdots & \\vdots \\\\\n",
    "\\cos x_{n-1} & \\sin x_{n-1}\n",
    "\\end{pmatrix}$$\n",
    "\n",
    "and we are fitting the two coefficients $c_0 = a\\cos \\theta$ and $c_1 = -a \\sin \\theta$, from which we can recover $a$ and $\\theta$ as:\n",
    "\n",
    "$$a = \\sqrt{c_0^2 + c_1^2} \\quad {\\rm and} \\quad \\theta = \\arctan\\frac{-c_1}{c_0}$$"
   ]
  },
  {
   "cell_type": "code",
   "execution_count": 6,
   "metadata": {},
   "outputs": [
    {
     "data": {
      "image/png": "[encoded data removed]",
      "text/plain": [
       "<Figure size 432x288 with 1 Axes>"
      ]
     },
     "metadata": {
      "needs_background": "light"
     },
     "output_type": "display_data"
    }
   ],
   "source": [
    "import math\n",
    "import numpy as np\n",
    "import matplotlib.pyplot as plt\n",
    "\n",
    "M = 37\n",
    "x = np.linspace(-np.pi, np.pi, M)\n",
    "y = 2.0*np.cos(x + math.radians(30.0)) + 0.1*np.random.randn(M)\n",
    "plt.scatter(x, y)\n",
    "plt.show()\n",
    "\n",
    "D = np.zeros((M, 2))\n",
    "D[:, 0] = np.cos(x)\n",
    "D[:, 1] = np.sin(x)"
   ]
  },
  {
   "cell_type": "code",
   "execution_count": 7,
   "metadata": {},
   "outputs": [
    {
     "data": {
      "text/plain": [
       "array([ 1.74012047, -1.01149002])"
      ]
     },
     "execution_count": 7,
     "metadata": {},
     "output_type": "execute_result"
    }
   ],
   "source": [
    "A = np.transpose(D) @ D\n",
    "b = np.transpose(D) @ y\n",
    "c = np.linalg.solve(A, b)\n",
    "c"
   ]
  },
  {
   "cell_type": "code",
   "execution_count": 8,
   "metadata": {},
   "outputs": [
    {
     "name": "stdout",
     "output_type": "stream",
     "text": [
      "2.0127422372665333\n"
     ]
    }
   ],
   "source": [
    "a = np.sqrt(c[0]**2 + c[1]**2)\n",
    "print(a)  "
   ]
  },
  {
   "cell_type": "code",
   "execution_count": 9,
   "metadata": {},
   "outputs": [
    {
     "name": "stdout",
     "output_type": "stream",
     "text": [
      "30.1684030248851\n"
     ]
    }
   ],
   "source": [
    "phi = math.degrees(np.arctan2(-c[1], c[0]))\n",
    "print(phi)                      # we expect 30 deg"
   ]
  },
  {
   "cell_type": "code",
   "execution_count": 10,
   "metadata": {},
   "outputs": [
    {
     "data": {
      "image/png": "[encoded data removed]",
      "text/plain": [
       "<Figure size 432x288 with 1 Axes>"
      ]
     },
     "metadata": {
      "needs_background": "light"
     },
     "output_type": "display_data"
    }
   ],
   "source": [
    "plt.scatter(x, y)\n",
    "plt.plot(x, a*np.cos(x + math.radians(phi)), color='red')\n",
    "plt.show()"
   ]
  },
  {
   "cell_type": "markdown",
   "metadata": {},
   "source": [
    "## Case 2: least-squares fitting with uncertainties in the data \n",
    "(uncertainties which are different for different data points)\n",
    "\n",
    "We have measurements $y_j$ at points $x_j$ with uncertainties $\\sigma_j$.\n",
    "\n",
    "In this case, our approximating function p(x) should not try too hard to pass by points with large uncertainties.\n",
    "\n",
    "Instead of minimizing the squared distances to all points, we now minimize distances downweighted by the uncertainties of the data. This can be done by minimizing the $\\chi$-squared function:\n",
    "\n",
    "$$\\chi^2 = \\sum_{j=0}^{n-1} \\big(\\frac{y_j - p(x_j)}{\\sigma_j}\\big)^2$$\n",
    "\n",
    "So now to find the $c_k$ that minimize the $\\chi^2$ we solve the equations:\n",
    "$$ \\frac{\\partial{\\chi}^2}{\\partial c_k} = 0$$"
   ]
  },
  {
   "cell_type": "markdown",
   "metadata": {},
   "source": [
    "### Example: straight line fit with uncertainties\n",
    "\n",
    "See also Numerical methods book section 6.5.2\n",
    "\n",
    "To fit a straight line, our approximating function will again be: p(x) = c_0 + c_1 x.\n",
    "\n",
    "The $\\chi^2$ takes the form: $$ \\chi^2 = \\sum_{j=0}^{n-1} \\big( \\frac{y_j - c_0 - c_1 x_j}{\\sigma_j}\\big)^2$$\n",
    "\n",
    "So we have two sets of equations obtained by searching for the $c_0, c_1$ that minimize the $\\chi^2$:\n",
    "\n",
    "$$ \\frac{\\partial\\chi^2}{\\partial c_0} = 0, \\frac{\\partial\\chi^2}{\\partial c_1} = 0$$\n",
    "\n",
    "Again these lead to a system of linear equations similar to the case without uncertainties we saw above.\n",
    "\n",
    "The system in matrix form is:\n",
    "\n",
    "$$ \n",
    "\\begin{pmatrix}\n",
    " S & S_x \\\\\n",
    " S_x & S_{xx} \n",
    "\\end{pmatrix}\n",
    "\\begin{pmatrix}\n",
    "c_0 \\\\\n",
    "c_1\n",
    "\\end{pmatrix} = \n",
    "\\begin{pmatrix}\n",
    "S_y\\\\\n",
    "S_{xy}\n",
    "\\end{pmatrix}$$\n",
    "\n",
    "where we have defined:\n",
    "$$ S \\equiv \\sum_{j=0}^{n-1} \\frac{1}{\\sigma_j^2}, \\,\\, \n",
    "S_x \\equiv \\sum_{j=0}^{n-1} \\frac{x_j}{\\sigma_j^2}, \\,\\,\n",
    "S_y \\equiv \\sum_{j=0}^{n-1} \\frac{y_j}{\\sigma_j^2}, \\,\\, \n",
    "S_{xx} \\equiv \\sum_{j=0}^{n-1} \\frac{x_j^2}{\\sigma_j^2}, \\,\\, \n",
    "S_{xy} \\equiv \\sum_{j=0}^{n-1} \\frac{x_j y_j}{\\sigma_j^2}, \\,\\,\n",
    "\\Delta \\equiv SS_{xx} - S_x^2\n",
    "$$\n",
    "\n",
    "The solutions of this system for the straight line case are:\n",
    "$$\n",
    "c_0 = \\frac{S_{xx}S_{y} - S_xS_{xy}}{\\Delta}, \\,\\, c_1 = \\frac{SS_{xy}-S_x S_y}{\\Delta}\n",
    "$$"
   ]
  },
  {
   "cell_type": "markdown",
   "metadata": {},
   "source": [
    "#### Errors of the fitted parameters\n",
    "\n",
    "Since our data have uncertainties, so will our parameters. \n",
    "\n",
    "Recall the standard error propagation formula for a function f of M variables $x_i$, each with their uncertaity $\\sigma_{x_i}$: \n",
    "$$ \\sigma_f^2 = \\big( \\frac{\\partial f}{\\partial x_0}\\big)^2 \\sigma_0^2 + \\big( \\frac{\\partial f}{\\partial x_1}\\big)^2 \\sigma_{x_1}^2 + ... $$\n",
    "\n",
    "By applying this formula to the above solutions for $c_0$ and $c_1$ we get expressions for their standard errors:\n",
    "$$\\sigma_{c_0} = \\sqrt{\\frac{S_{xx}}{\\Delta}},\\,\\, \\sigma_{c_1} = \\sqrt{\\frac{S}{\\Delta}} \n",
    "$$"
   ]
  },
  {
   "cell_type": "code",
   "execution_count": 21,
   "metadata": {},
   "outputs": [
    {
     "name": "stdout",
     "output_type": "stream",
     "text": [
      "Optimized parameters (a, b): [1.98513366 1.10423572]\n",
      "Covariance matrix:\n",
      "[[ 0.00029406 -0.0014703 ]\n",
      " [-0.0014703   0.00985148]]\n",
      "Optimized parameters:\n",
      "a = 1.985 ± 0.017\n",
      "b = 1.104 ± 0.099\n"
     ]
    },
    {
     "data": {
      "image/png": "[encoded data removed]",
      "text/plain": [
       "<Figure size 576x432 with 1 Axes>"
      ]
     },
     "metadata": {
      "needs_background": "light"
     },
     "output_type": "display_data"
    }
   ],
   "source": [
    "#### Example fitting straight line with errors using scipy\n",
    "from scipy.optimize import curve_fit\n",
    "\n",
    "# Define the model function\n",
    "def model_function(x, a, b):\n",
    "    return a * x + b\n",
    "\n",
    "# Generate some example data\n",
    "np.random.seed(0)\n",
    "x_data = np.linspace(0, 10, 100)\n",
    "y_data = 2 * x_data + 1 + np.random.normal(0, 0.5, size=len(x_data))  # Adding noise\n",
    "sigma_data = np.full_like(y_data, 0.5)  # Absolute uncertainties in y_data\n",
    "\n",
    "# Perform curve fitting\n",
    "popt, pcov = curve_fit(model_function, x_data, y_data, sigma=sigma_data, absolute_sigma=True)\n",
    "\n",
    "# Print the optimized parameters\n",
    "print(\"Optimized parameters (a, b):\", popt)\n",
    "\n",
    "# Print the covariance matrix\n",
    "print(\"Covariance matrix:\")\n",
    "print(pcov)\n",
    "\n",
    "# Extract the standard deviations (errors) on the parameters from the covariance matrix\n",
    "perr = np.sqrt(np.diag(pcov))\n",
    "\n",
    "# Define parameter names\n",
    "param_names = ['a', 'b']\n",
    "\n",
    "# Print the optimized parameters and their errors\n",
    "print(\"Optimized parameters:\")\n",
    "for name, value, error in zip(param_names, popt, perr):\n",
    "    print(\"{} = {:.3f} ± {:.3f}\".format(name, value, error))\n",
    "\n",
    "# Plot the data and the fitted curve\n",
    "plt.figure(figsize=(8, 6))\n",
    "plt.errorbar(x_data, y_data, yerr=sigma_data, fmt='o', label='Data with Errorbars')\n",
    "plt.plot(x_data, model_function(x_data, *popt), label='Fitted Curve', color='red')\n",
    "plt.xlabel('x')\n",
    "plt.ylabel('y')\n",
    "plt.title('Curve Fitting with Absolute Sigma')\n",
    "plt.legend()\n",
    "plt.grid(True)\n",
    "plt.show()"
   ]
  },
  {
   "cell_type": "markdown",
   "metadata": {},
   "source": [
    "<font color='red'>Class exercise: Show that the equations above indeed are minima of the $\\chi^2$ (not maxima or saddle points) </font>\n"
   ]
  },
  {
   "cell_type": "markdown",
   "metadata": {},
   "source": [
    "## Deciding between different models: how to choose between different fitting functions"
   ]
  },
  {
   "cell_type": "markdown",
   "metadata": {},
   "source": [
    "Say we have a set of data and one theory tells us we should expect a linear function $p(x) = c_0 + c_1 x$ while another theory tells us we should expect a quadratic dependence: $q(x) = c_0 + c_1 x + c_2 x^2$.\n",
    "\n",
    "How do we distinguish which is more plausible, given the data we have? In other words, which function is a better description of the data?\n",
    "\n",
    "Here's a typical way this is solved:\n",
    "* perform a least-squares fit of each function to the data, i.e. find the parameters that minimize the $\\chi^2$ in each case.\n",
    "* calculate the $\\chi^2$-per-degree-of-freedom, known as the 'reduced' chi-squared: $\\chi^2_{red} = \\frac{\\chi^2}{n-N}$, where $n$ is the number of data points and $N$ the number of parameters of our fitting function.\n",
    "* the theory/model/function that gave a value of $\\chi^2_{red}$ closer to **1** is the preferred theory.\n",
    "\n",
    "Another way is to look at the parameter values: if you fit a quadratic function but the $c_2$ term is close to 0, then a linear function is actually preferred."
   ]
  },
  {
   "cell_type": "code",
   "execution_count": 22,
   "metadata": {},
   "outputs": [
    {
     "name": "stdout",
     "output_type": "stream",
     "text": [
      "Optimized parameters (a, b, c): [0.02589999 1.72613375 1.53154197]\n",
      "Covariance matrix:\n",
      "[[ 4.32484361e-05 -4.32484364e-04  7.13526380e-04]\n",
      " [-4.32484364e-04  4.61890308e-03 -8.60556090e-03]\n",
      " [ 7.13526380e-04 -8.60556090e-03  2.16234693e-02]]\n",
      "Optimized parameters:\n",
      "a = 0.026 ± 0.007\n",
      "b = 1.726 ± 0.068\n",
      "c = 1.532 ± 0.147\n"
     ]
    },
    {
     "data": {
      "image/png": "[encoded data removed]",
      "text/plain": [
       "<Figure size 576x432 with 1 Axes>"
      ]
     },
     "metadata": {
      "needs_background": "light"
     },
     "output_type": "display_data"
    }
   ],
   "source": [
    "# Example fitting same data but with a quadratic function\n",
    "\n",
    "# Define the model function (quadratic)\n",
    "def model_function2(x, a, b, c):\n",
    "    return a * x**2 + b * x + c\n",
    "\n",
    "\n",
    "# Perform curve fitting\n",
    "popt2, pcov2 = curve_fit(model_function2, x_data, y_data, sigma=sigma_data, absolute_sigma=True)\n",
    "\n",
    "# Print the optimized parameters\n",
    "print(\"Optimized parameters (a, b, c):\", popt2)\n",
    "\n",
    "# Print the covariance matrix\n",
    "print(\"Covariance matrix:\")\n",
    "print(pcov2)\n",
    "\n",
    "# Extract the standard deviations (errors) on the parameters from the covariance matrix\n",
    "perr2 = np.sqrt(np.diag(pcov2))\n",
    "\n",
    "# Define parameter names\n",
    "param_names2 = ['a', 'b', 'c']\n",
    "\n",
    "# Print the optimized parameters and their errors\n",
    "print(\"Optimized parameters:\")\n",
    "for name, value, error in zip(param_names2, popt2, perr2):\n",
    "    print(\"{} = {:.3f} ± {:.3f}\".format(name, value, error))\n",
    "\n",
    "# Plot the data and the fitted curve\n",
    "plt.figure(figsize=(8, 6))\n",
    "plt.errorbar(x_data, y_data, yerr=sigma_data, fmt='o', label='Data with Errorbars')\n",
    "plt.plot(x_data, model_function2(x_data, *popt2), label='Fitted Curve', color='red')\n",
    "plt.xlabel('x')\n",
    "plt.ylabel('y')\n",
    "plt.title('Curve Fitting with Absolute Sigma')\n",
    "plt.legend()\n",
    "plt.grid(True)\n",
    "plt.show()"
   ]
  },
  {
   "cell_type": "code",
   "execution_count": 23,
   "metadata": {},
   "outputs": [
    {
     "name": "stdout",
     "output_type": "stream",
     "text": [
      "Reduced chi-square - linear fit: 1.028888625988379\n",
      "Reduced chi-square - quadratic fit: 0.8795925764950829\n"
     ]
    }
   ],
   "source": [
    "# Calculate the chi-square\n",
    "residuals = y_data - model_function(x_data, *popt)\n",
    "chi_square = np.sum((residuals / sigma_data)**2)\n",
    "\n",
    "# Calculate the degrees of freedom\n",
    "dof = len(y_data) - len(popt)\n",
    "\n",
    "# Calculate the reduced chi-square\n",
    "chi_square_red = chi_square / dof\n",
    "\n",
    "print(\"Reduced chi-square - linear fit:\", chi_square_red)\n",
    "\n",
    "\n",
    "\n",
    "# Calculate the chi-square\n",
    "residuals = y_data - model_function2(x_data, *popt2)\n",
    "chi_square = np.sum((residuals / sigma_data)**2)\n",
    "\n",
    "# Calculate the degrees of freedom\n",
    "dof = len(y_data) - len(popt2)\n",
    "\n",
    "# Calculate the reduced chi-square\n",
    "chi_square_red = chi_square / dof\n",
    "\n",
    "print(\"Reduced chi-square - quadratic fit:\", chi_square_red)"
   ]
  },
  {
   "cell_type": "code",
   "execution_count": 26,
   "metadata": {},
   "outputs": [
    {
     "data": {
      "text/plain": [
       "(0.028000000000000025, 0.121)"
      ]
     },
     "execution_count": 26,
     "metadata": {},
     "output_type": "execute_result"
    }
   ],
   "source": [
    "1.028-1, np.abs(0.879-1)"
   ]
  },
  {
   "cell_type": "code",
   "execution_count": null,
   "metadata": {},
   "outputs": [],
   "source": []
  }
 ],
 "metadata": {
  "kernelspec": {
   "display_name": "Python [conda env:python36]",
   "language": "python",
   "name": "conda-env-python36-py"
  },
  "language_info": {
   "codemirror_mode": {
    "name": "ipython",
    "version": 3
   },
   "file_extension": ".py",
   "mimetype": "text/x-python",
   "name": "python",
   "nbconvert_exporter": "python",
   "pygments_lexer": "ipython3",
   "version": "3.6.12"
  }
 },
 "nbformat": 4,
 "nbformat_minor": 4
}
