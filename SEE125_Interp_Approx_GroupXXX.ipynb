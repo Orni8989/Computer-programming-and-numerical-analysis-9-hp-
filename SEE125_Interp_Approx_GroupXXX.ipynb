{
 "cells": [
  {
   "cell_type": "markdown",
   "metadata": {},
   "source": [
    "# Interpolation and Approximation"
   ]
  },
  {
   "cell_type": "markdown",
   "metadata": {},
   "source": [
    "Before you turn this problem in, make sure everything runs as expected. First, **restart the kernel** (in the menubar, select Kernel$\\rightarrow$Restart) and then **run all cells** (in the menubar, select Cell$\\rightarrow$Run All).\n",
    "\n",
    "Make sure you fill in any place that says `YOUR CODE HERE` or \"YOUR ANSWER HERE\", \n",
    "as well as your name(s) and group number in the cell below:"
   ]
  },
  {
   "cell_type": "code",
   "execution_count": null,
   "metadata": {},
   "outputs": [],
   "source": [
    "NAMES = \"\"                # fill in your name(s) between the quotes, comma separated if more than one\n",
    "GROUP = \"\"                # fill in your group number between the quotes"
   ]
  },
  {
   "cell_type": "markdown",
   "metadata": {},
   "source": [
    "## Before you start..."
   ]
  },
  {
   "cell_type": "markdown",
   "metadata": {},
   "source": [
    "A note from the teachers:\n",
    "\n",
    "In our journey through our numerical analysis course, we've witnessed your progress and effort to improve your coding abilities and learn how to 'digitize' math problems with numerical recipes. As we delve deeper into the subject matter, it's time to take the next steps in the learning process.\n",
    "\n",
    "We've designed a more complex assignment for you, one that will stretch your analytical abilities and allow you to explore new methodologies, enabling you to learn by stepping a bit outside your comfort zones.\n",
    "\n",
    "Additionally, we're introducing a peer feedback component to this assignment. Providing feedback to your peers is a valuable learning experience, as it not only allows you to critically assess others' work but also provides insights into your own approach and understanding of the material. Constructive feedback fosters a culture of collaboration and mutual support, enriching our collective learning journey.\n",
    "\n",
    "We understand that stepping into unfamiliar territory can be daunting, but remember, it is through facing challenges that we truly grow. Embrace this opportunity with an open mind and a willingness to explore. Stepping stones are placed along the way to help you reach the end. Even if you don't find a working solution for a task, explain your thought process and what you tried but didn't work. The feedback you will receive will help you through. \n",
    "\n",
    "As always, the teachers and TA's are here to help in the exercise sessions or via email/Canvas.\n",
    "\n",
    "We hope you'll enjoy the process."
   ]
  },
  {
   "cell_type": "markdown",
   "metadata": {},
   "source": [
    "Practicalities:\n",
    "\n",
    "This assignment has three parts.\n",
    "* Part 1: tools. In this part you implement tools for interpolation and approximation. (Due Apr 19)\n",
    "* Part 2: applying your tools in the real world. In this part you explore a public dataset and apply tools from part 1 to solve two problems. (Due Apr 19)\n",
    "* Part 3: class-wide results and peer feedback. In this part you will use the results collected by the entire class to solve a problem. You will also go over the assignments submitted by two other groups and give them feedback on their code and solutions. (Due May 3)\n",
    "\n",
    "Timeline:\n",
    "* Complete parts 1 and 2 (this notebook) by April 19. Submit the notebook on Canvas and fill in the online form from part 2.\n",
    "* Receive part 3 notebook and the part 1,2 notebooks from two other groups on April 22.\n",
    "* Complete part 3 and peer feedback by May 3. Instructions will be given on April 22.\n",
    "\n",
    "**As you tackle parts 1 and 2 below keep in mind that your code and thought process needs to be clear and well-explained via comments, so that the students who evaluate your assignment can follow along.**\n"
   ]
  },
  {
   "cell_type": "markdown",
   "metadata": {},
   "source": [
    "---"
   ]
  },
  {
   "cell_type": "markdown",
   "metadata": {},
   "source": [
    "# Part 1: Tools"
   ]
  },
  {
   "cell_type": "markdown",
   "metadata": {},
   "source": [
    "## Problem 1\n",
    "\n",
    "Let's create a very small data set. In this part you will program various methods for interpolation for the general case and then test your code on this small example."
   ]
  },
  {
   "cell_type": "code",
   "execution_count": null,
   "metadata": {},
   "outputs": [],
   "source": [
    "# just run this cell\n",
    "import numpy as np\n",
    "import matplotlib.pyplot as plt\n",
    "\n",
    "x = np.arange(0,7,2)\n",
    "y = np.array([0.6, 0.8, 0.7, 0])\n",
    "\n",
    "\n",
    "# Let's have a quick look at the data\n",
    "plt.scatter(x, y)\n",
    "plt.xlabel('x')\n",
    "plt.ylabel('y')\n",
    "plt.show()"
   ]
  },
  {
   "cell_type": "markdown",
   "metadata": {},
   "source": [
    "## 1.1\n",
    "\n",
    "#### Monomials, Vandermonde matrix\n",
    "\n",
    "First check out the section on Polynomial interpolation via monomial basis functions in the Interpolation lecture notebook (posted Monday 8) and the Numerical methods book by Gezerlis. We know the function $f(x)$ which we wish to interpolate at the points $x_j$, where it takes values $y_j$.\n",
    "\n",
    "Recall that we wrote the interpolating polynomial that approximates this function $f$ as:\n",
    "\\begin{equation}\n",
    "p(x) = \\sum_{k=0}^{n-1} c_k \\phi_k(x)\n",
    "\\end{equation}\n",
    "\n",
    "where the $\\phi_k$ are basis functions and the $k$ runs over the number of points k = 0,...,n-1.\n",
    "\n",
    "By evaluating $p(x)$ at the given datapoints $x_j$ we get a set of $n$ equations, which we can write in matrix form:\n",
    "\n",
    "$$\\begin{pmatrix}\n",
    "\\phi_0(x_0) & \\phi_1(x_0) & \\ldots & \\phi_{n-1}(x_0)\\\\\n",
    "\\phi_0(x_1) & \\phi_1(x_1) &  \\ldots & \\phi_{n-1}(x_1)\\\\\n",
    "\\phi_0(x_2) & \\phi_1(x_2) &  \\ldots & \\phi_{n-1}(x_2) \\\\\n",
    "\\vdots & \\vdots & \\vdots &  \\vdots \\\\\n",
    "\\phi_0(x_{n-1}) & \\phi_1(x_{n-1}) &  \\ldots & \\phi_{n-1}(x_{n-1}) \\\\\n",
    "\\end{pmatrix}\n",
    "\\begin{pmatrix}c_0 \\\\ c_1 \\\\ c_2 \\\\ \\vdots \\\\ c_{n-1}\\end{pmatrix} =\n",
    "\\begin{pmatrix}y_0 \\\\ y_1 \\\\  y_2 \\\\ \\vdots \\\\ y_{n-1}\\end{pmatrix}\n",
    "$$\n",
    "\n",
    "or in vector notation:\n",
    "$$V \\vec{c} = \\vec{y}$$\n",
    "\n",
    "where in this case we choose the basis functions to be monomials: $\\phi_k = x^k$.\n",
    "\n",
    "\n",
    "#### Task 1:\n",
    "\n",
    "Write a function `vandermonde` which takes a vector of data points $x$ and from that constructs  the **Vandermonde** matrix $V$, **without using** `np.vander`:\n",
    "\n",
    "$$V = \\begin{pmatrix}\n",
    "1 & x_0 & x_0^2 & \\ldots & x_0^{n-1}\\\\\n",
    "1 & x_1 & x_1^2 & \\ldots & x_1^{n-1}\\\\\n",
    "1 & x_2 & x_2^2 & \\ldots & x_2^{n-1} \\\\\n",
    "\\vdots & \\vdots & \\vdots & \\ddots & \\vdots \\\\\n",
    "1 & x_{n-1} & x_{n-1}^2 & \\ldots & x_{n-1}^{n-1} \\\\\n",
    "\\end{pmatrix}$$\n",
    "\n",
    "Each column of the Vandermonde matrix contains a *monomial* (i.e a polynomial with only one order) of $x$.\n",
    "\n",
    "Note that you will need to find $n$, which is the length of the vector $x$ (with elements $x_i$, where $i=0\\ldots n-1$).\n",
    "\n",
    "You should attempt to avoid using nested for loops.\n",
    "\n",
    "Hint: Note that each column is $x$-times the column on its left. So I suggest you initialize the matrix to be a $n \\times n$ matrix with all ones \n",
    "(let's call it `V`, and then loop over columns $j= 1\\ldots n-1$ and set the $j$-th column of `V` to $x$ times the $j-1$-th column of `V`."
   ]
  },
  {
   "cell_type": "code",
   "execution_count": null,
   "metadata": {},
   "outputs": [],
   "source": [
    "def vandermonde(x):\n",
    "    ### BEGIN SOLUTION\n",
    "\n",
    "    ### END SOLUTION\n",
    "    return V\n",
    "\n",
    "# now call our function with our test vector\n",
    "V = vandermonde(x)\n",
    "V"
   ]
  },
  {
   "cell_type": "markdown",
   "metadata": {},
   "source": [
    "Make sure that your function works by comparing it with `numpy`s version. \n",
    "Note, that `np.vander` has the columns in the opposite order, \n",
    "unless we call it with the parameter `increasing=True` the default is `False`."
   ]
  },
  {
   "cell_type": "code",
   "execution_count": null,
   "metadata": {},
   "outputs": [],
   "source": [
    "assert (V == np.vander(x, increasing=True)).all()"
   ]
  },
  {
   "cell_type": "markdown",
   "metadata": {},
   "source": [
    "**Task 2:** \n",
    "\n",
    "Now solve the system of equations\n",
    "\n",
    "$$V \\vec{c} = \\vec{y}$$\n",
    "\n",
    "and turn the coefficients vector $\\vec{c}$ (a vector of length $n$ which in our case is $n=3$) into a `poly1d` object. \n",
    "\n",
    "Check out the section on `np.poly1d()` in the Interpolation lecture notebook. Note that a `poly1d` has the coefficients stored in descending order of $x$, so for example \n",
    "\n",
    "``` python\n",
    "a = np.poly1d([2, 1, -1])\n",
    "```\n",
    "corresponds to the polynomial \n",
    "\n",
    "$$ p(x) = (2)x^2 + (1)x^1 + (-1) x^0 = 2x^2 +x -1 $$\n",
    "\n",
    "So you will have to either flip the matrix around before solving the system of equations, or turn the solution vector around before calling `np.poly1d()` on it.\n",
    "\n",
    "Print the resulting polynomial. Note, using `print(p)` will try and print a pretty version of the polynomial showing the various powers of x and their coefficients. \n",
    "\n",
    "You can get just the coefficients by using `print(p.coefficients)`. \n",
    "\n",
    "Finally, just using `p` as the last statement of the cell will reproduce the statement that generates the polynomial."
   ]
  },
  {
   "cell_type": "code",
   "execution_count": null,
   "metadata": {},
   "outputs": [],
   "source": [
    "# create a poly1d object from the solution and call it p\n",
    "# p = np.poly1d(...)\n",
    "\n",
    "### BEGIN SOLUTION\n",
    "\n",
    "### END SOLUTION\n",
    "\n",
    "print(p)\n",
    "print(p.coefficients)\n",
    "p"
   ]
  },
  {
   "cell_type": "markdown",
   "metadata": {},
   "source": [
    "Because we now have our solution in the form of a `poly1d` object, we can very easily evaluate that polynomial on a new vector."
   ]
  },
  {
   "cell_type": "code",
   "execution_count": null,
   "metadata": {},
   "outputs": [],
   "source": [
    "# just run this cell\n",
    "\n",
    "t = np.linspace(0, 7)     # we are using linspace's default of 50 points\n",
    "zp = p(t)\n",
    "# start by showing the original data again\n",
    "plt.scatter(x, y)\n",
    "# now plot the interpolating data\n",
    "plt.plot(t, zp, label='Vandermonde')\n",
    "plt.xlabel('x')\n",
    "plt.ylabel('y')\n",
    "plt.legend()\n",
    "plt.show()"
   ]
  },
  {
   "cell_type": "markdown",
   "metadata": {},
   "source": [
    "## 1.2 \n",
    "\n",
    "#### Lagrange polynomials\n",
    "\n",
    "As we saw in the lecture, the *Lagrange* polynomial is defined as:\n",
    "\n",
    "\\begin{equation}\n",
    "L_k(x) = \\frac{\\Pi_{j=0,j\\neq k}^{n-1} (x-x_j)}{\\Pi_{j=0,j\\neq k}^{n-1}(x_k - x_j)}, \\,\\,\\, k = 0,1,...n-1\n",
    "\\end{equation}\n",
    "\n",
    "or more simply:\n",
    "\n",
    "$$L_k(x) = \\prod_{j=0, j\\ne k}^{n-1} \\frac{x - x_j}{x_k - x_j}$$\n",
    "\n",
    "which has the property\n",
    "\n",
    "$$L_k(x_j) = \\delta_{kj} = \\left\\{\\begin{array}{ll}\n",
    "1 & k = j \\\\\n",
    "0 & k \\ne j\\end{array}\\right.$$\n",
    "\n",
    "We can construct an interpolating polynomial as follows\n",
    "\n",
    "$$p(x) = \\sum_{i=0}^{n-1} y_i L_i(x)$$\n",
    "\n",
    "\n",
    "**Task 1:**\n",
    "\n",
    "Write a function `Lagrange` that takes two vectors, $x$ and $y$, and generates the polynomial $p(x)$ by looping over $x$ and $y$. You will have to use an inner loop to build up $L_i(x)$ and an outer loop which sums up $y_i L_i(x)$. \n",
    "\n",
    "Note that you will need to initialize the sum with `np.poly1d(0.0)` and initialize the products $L_i(x)$ with `np.poly1d(1.0)`, in order that you can iterate over terms that you want to add or multiply onto them.\n",
    "\n",
    "Make use of the fact that the factors $\\frac{x - x_j}{x_i - x_j}$ appearing in $L(x)$ can be represented in Python using numpy's `poly1d` objects like this\n",
    "\n",
    "``` python\n",
    "p = np.poly1d([1.0, -x[j]])/(x[i]-x[j])\n",
    "```\n",
    "                                  \n",
    "Do not use the existing `lagrange` function from scipy."
   ]
  },
  {
   "cell_type": "code",
   "execution_count": null,
   "metadata": {},
   "outputs": [],
   "source": [
    "def Lagrange(x, y):\n",
    "    ### BEGIN SOLUTION\n",
    "\n",
    "    ### END SOLUTION\n",
    "\n",
    "# use it on our test case\n",
    "q = Lagrange(x, y)\n",
    "q"
   ]
  },
  {
   "cell_type": "markdown",
   "metadata": {},
   "source": [
    "**Task 2:**\n",
    "\n",
    "Compare the polynomial $p$ from problem 1.1 and polynomial $q$ from problem 1.2. Obviously, we want the result to be the same, within machine precision. Plot both polynomials and quantify their difference."
   ]
  },
  {
   "cell_type": "code",
   "execution_count": null,
   "metadata": {},
   "outputs": [],
   "source": [
    "# BEGIN SOLUTION\n",
    "\n",
    "# END SOLUTION"
   ]
  },
  {
   "cell_type": "markdown",
   "metadata": {},
   "source": [
    "## 1.3\n",
    "\n",
    "**Fourier interpolation**\n",
    "\n",
    "Check out the second lecture on interpolation and also the in the Numerical methods book by Gezerlis, Chapter 6 Finite Series: Trigonometric interpolation.\n",
    "\n",
    "If we have reason to believe that our data are described by a periodic function, then we can use Fourier interpolation. We have n data points with values $y_j$ at locations $x_j$, where $j = 0, 1, ... n-1$. \n",
    "\n",
    "Imporant! The $x_j$ points are equidistant and placed at \n",
    "\n",
    "\\begin{equation}\n",
    "x_j = \\frac{2 \\pi j}{n}\n",
    "\\end{equation}\n",
    "\n",
    "so they span the range [0, $2\\pi$). \n",
    "\n",
    "We restrict ourselves to the case where n is odd, so that $n = 2m$ (m is some integer).\n",
    "\n",
    "The interpolating function is of the form:\n",
    "\\begin{equation}\n",
    "p(x) = \\frac{1}{2} a_0 + \\sum_{k=1}^{m-1} (a_k cos(kx) + b_k sin(kx)) + \\frac{1}{2}a_m cos(mx) \\,\\,\\,\\, (1)\n",
    "\\end{equation}\n",
    "\n",
    "where the coefficients $a_k, b_k$ are found from \n",
    "\\begin{equation}\n",
    "a_k = \\frac{1}{m} \\sum_{j=0}^{n-1} (y_j cos(kx_j), \\,\\,\\, k = 0,1,...m \\,\\,\\,\\,\\, (2)\n",
    "\\end{equation}\n",
    "\n",
    "\\begin{equation}\n",
    "b_k = \\frac{1}{m} \\sum_{j=0}^{n-1} (y_j sin(kx_j), \\,\\,\\, k = 1,2,...m-1 \\,\\,\\,\\,\\,\\, (3)\n",
    "\\end{equation}\n",
    "\n",
    "So trigonometric interpolation has two steps: first, evaluate the coefficients fot a given dataset. We do this so that we don't re-evaluate these parameters every time we wish to evaluate the interpolating function in a new point. Second, compute the value of the interpolating function at desired locations, given the determined parameters.\n",
    "\n",
    "**Task1:**\n",
    "\n",
    "Implement Fourier interpolation by defining two functions:\n",
    "- `computeparams` is a function that takes in two data arrays (x and y) and computes the coefficients (equations 2,3). It returns two arrays that hold the coefficients a_k and b_k.\n",
    "- `triginterp` is the interpolating function (equation 1). It takes as input the arrays of all coefficients a_k, b_k and an array of points x where the interpolation is to happen. It evaluates the values of $p(x)$ at at points x and returns those values.\n",
    "\n",
    "Store the arrays of the coefficients $a_k$ and $b_k$ in the variable names `aparams` and `bparams`."
   ]
  },
  {
   "cell_type": "code",
   "execution_count": null,
   "metadata": {},
   "outputs": [],
   "source": [
    "# BEGIN SOLUTION\n",
    "\n",
    "# END SOLUTION"
   ]
  },
  {
   "cell_type": "markdown",
   "metadata": {},
   "source": [
    "**Task 2:**\n",
    "\n",
    "Apply the Fourier interpolation to the data from problem 1.1. \n",
    "\n",
    "Hint: The Fourier interpolation we wrote down assumes that points are equally spaced in the interval [0,$2\\pi$). You should therefore map/convert your points to be in this interval."
   ]
  },
  {
   "cell_type": "code",
   "execution_count": null,
   "metadata": {},
   "outputs": [],
   "source": [
    "x = np.arange(0,7,2)\n",
    "y = np.array([0.6, 0.8, 0.7, 0])\n",
    "\n",
    "\n",
    "# BEGIN SOLUTION\n",
    "\n",
    "# END SOLUTION"
   ]
  },
  {
   "cell_type": "markdown",
   "metadata": {},
   "source": [
    "**Task 3:**\n",
    "\n",
    "Plot the original data points and overlay the interpolating function evaluated at `xs = np.linspace(0,x.max())`. The interpolating function should pass through the original points if all is well."
   ]
  },
  {
   "cell_type": "code",
   "execution_count": null,
   "metadata": {},
   "outputs": [],
   "source": [
    "# BEGIN SOLUTION\n",
    "\n",
    "# END SOLUTION"
   ]
  },
  {
   "cell_type": "markdown",
   "metadata": {},
   "source": [
    "## Problem 2\n",
    "\n",
    "Choose a suitable interpolation method to solve the following mathematical puzzle:\n",
    "\n",
    "A water fountain of height $h$ is spraying water along a perfect parabola (see figure). The parabola has its vertex at a height of 3 meters and 1 meter away from the fountain. The water hits ground after another 2 meter to the right.\n",
    "\n",
    "**Task 1:**\n",
    "\n",
    "* Construct the quadratic polynomial that fits the path of the water and then use that polynomial to solve for the height $h$ of the fountain in meters.\n",
    "* Store your solution in a variable called `h`."
   ]
  },
  {
   "attachments": {
    "fountain.png": {
     "image/png": "[encoded data removed]"
    }
   },
   "cell_type": "markdown",
   "metadata": {},
   "source": [
    "![fountain.png](attachment:fountain.png)"
   ]
  },
  {
   "cell_type": "code",
   "execution_count": null,
   "metadata": {},
   "outputs": [],
   "source": [
    "### BEGIN SOLUTION\n",
    "\n",
    "### END SOLUTION"
   ]
  },
  {
   "cell_type": "code",
   "execution_count": null,
   "metadata": {},
   "outputs": [],
   "source": [
    "# If you have done everyting correctly, the following test should pass\n",
    "\n",
    "assert h == 2.25"
   ]
  },
  {
   "cell_type": "markdown",
   "metadata": {},
   "source": [
    "**Task 2:**\n",
    "\n",
    "* Since we know the degree of the polynomial that describes the data, we can also use least-squares fitting. Use numpy's `polyfit` to compare your result with the interpolation method you used in the previous step."
   ]
  },
  {
   "cell_type": "code",
   "execution_count": null,
   "metadata": {},
   "outputs": [],
   "source": [
    "# YOUR CODE HERE"
   ]
  },
  {
   "cell_type": "markdown",
   "metadata": {},
   "source": [
    "---"
   ]
  },
  {
   "cell_type": "markdown",
   "metadata": {},
   "source": [
    "# Part 2: Trends in global sea levels"
   ]
  },
  {
   "cell_type": "markdown",
   "metadata": {},
   "source": [
    "**Challenge:** Can you use the tools you learned so far to find trends in the sea levels in different parts of the planet?\n",
    "\n",
    "**Background:**\n",
    "\n",
    "Sea levels are being monitored globally, to track how the surface of the Earth's waters changes with time. The data are collected via two main ways: \n",
    "* coastal stations which measure the sea level relative to the ground locally via tide gauges https://oceanservice.noaa.gov/facts/tide-gauge.html.\n",
    "* satellites that measure the sea surface over most of the planet via altimetry https://sealevel.nasa.gov/faq/19/how-do-satellites-measure-sea-level-change/.\n",
    "\n",
    "Sattelites provide higher accuracy and coverage of the planet's surface, but only have gathered data for a short time period. Coastal stations have been gathering data for many decades, but have poorer quality. In this assignment we use data from coastal stations because of their longer time-span. \n",
    "\n",
    "By analysing decades-long data from both sources, scientists have found that the global-average sea level is rising, lately at an accelerating pace. \n",
    "\n",
    "Your goal is to collect and analyse data from coastal stations in locations of your choice to see how the sea levels have been changing in different parts of the world.\n",
    "\n",
    "Learn more at: \n",
    "- https://www.climate.gov/news-features/understanding-climate/climate-change-global-sea-level\n",
    "- https://www.eea.europa.eu/en/analysis/indicators/global-and-european-sea-level-rise#ref-2uriz\n",
    "\n",
    "\n",
    "**Task overview:**\n",
    "* Problem 1 guides you through using data from an online database to measure and document decades-long trends in the sea levels from different coastal stations. Your results should be uploaded so that the entire class can access them for Part 3.\n",
    "\n",
    "* Problem 2 introduces you to data from a different database in order to model short-time variations in the sea levels via interpolation."
   ]
  },
  {
   "cell_type": "markdown",
   "metadata": {},
   "source": [
    "## Problem 1\n",
    "\n",
    "\n",
    "### 1.a \n",
    "First we look at the data from one station in the USA, named Friday harbor, as an example. The code below downloads and plots the data. \n",
    "\n",
    "**Tasks**: \n",
    "\n",
    "* Write code that performs least-squares fitting of a straight line to the data.\n",
    "\n",
    "* Overplot the fitted line on the existing plot. \n",
    "\n",
    "* Check that your fit didn't fail: we expect for this dataset a slope that is positive and slightly larger than 1."
   ]
  },
  {
   "cell_type": "code",
   "execution_count": null,
   "metadata": {},
   "outputs": [],
   "source": [
    "import matplotlib.pyplot as plt # plotting functions\n",
    "import numpy as np # numerical tools\n",
    "import pandas as pd\n",
    "\n",
    "# Friday Harbor station ID is 384. Change this to get data from another station. Use the map here: \n",
    "sid = 384\n",
    "# you can find and load the sea level data\n",
    "url=\"http://www.psmsl.org/data/obtaining/met.monthly.data/%d.metdata\"%sid\n",
    "df = pd.read_csv(url,delimiter=';', names = ['time','height','null', 'null2'])\n",
    "\n",
    "# \"bad\" values in this dataset are defined by a large negative number, so we only\n",
    "# accept positive values:\n",
    "df = df[df.iloc[:,1] >= 0]\n",
    "\n",
    "# convert the pandas dataframe to numpy array:\n",
    "time= df['time'].to_numpy() # time is in years (with decimals)\n",
    "height = df['height'].to_numpy()\n",
    "\n",
    "\n",
    "# plot the sea height data:\n",
    "plt.figure(figsize = (14,5))\n",
    "plt.plot(time,height,'ro')\n",
    "\n",
    "plt.grid()\n",
    "plt.xlabel('Date (year)')\n",
    "plt.ylabel('Sea height ')\n",
    "plt.title('Sea height at station')\n",
    "plt.legend(['measurements','best linear fit'],loc=4)\n",
    "plt.axis('tight')\n",
    "\n",
    "\n",
    "\n",
    "# BEGIN SOLUTION\n",
    "\n",
    "\n",
    "# END SOLUTION"
   ]
  },
  {
   "cell_type": "markdown",
   "metadata": {},
   "source": [
    "## 1.b\n",
    "\n",
    "Not all stations have been monitoring data for the same time. Restrict your fit to only take into account points from 1980 to 2022. \n",
    "\n",
    "#### Tasks:\n",
    "\n",
    "* Find a way to select only data points between 1980-2022.\n",
    "* Fit a straight line to this restricted dataset.\n",
    "* Store the slope and error on the slope as in variables named `my_slope` and `my_slope_err`, respectively."
   ]
  },
  {
   "cell_type": "code",
   "execution_count": null,
   "metadata": {},
   "outputs": [],
   "source": [
    "# YOUR CODE HERE"
   ]
  },
  {
   "cell_type": "markdown",
   "metadata": {},
   "source": [
    "## 1.c\n",
    "\n",
    "Gathering your datasets...\n",
    "\n",
    "### Tasks:\n",
    "* Visit the map to check out the different stations: https://psmsl.org/data/obtaining/map.html#metadataTab\n",
    "\n",
    "* Choose 3 different stations in any part of the world you wish.\n",
    "\n",
    "* Repeat the above process for each station and store the slopes and errors you get. It will be helpful if you also make plots, but that is up to you.\n",
    "\n",
    "**Important! Restrict the data to the years 1980 - 2022 so that we all compute a slope for the same timeline.**"
   ]
  },
  {
   "cell_type": "code",
   "execution_count": null,
   "metadata": {},
   "outputs": [],
   "source": [
    "# YOUR CODE HERE"
   ]
  },
  {
   "cell_type": "markdown",
   "metadata": {},
   "source": [
    "## 1.d\n",
    "\n",
    "Each station has an info page. This is the one for Friday harbor: https://psmsl.org/data/obtaining/stations/384.php\n",
    "\n",
    "### Tasks:\n",
    "* Visit each of your selected station's info page to get its ID, longitude and latitude.\n",
    "\n",
    "* Go to the form and fill in for each station its ID, longitude, latitude, slope and slope error: https://forms.office.com/e/XkfZKduvNM\n",
    "\n",
    "* Write a sentence on what your results showed."
   ]
  },
  {
   "cell_type": "code",
   "execution_count": null,
   "metadata": {},
   "outputs": [],
   "source": [
    "# YOUR COMMENTS HERE"
   ]
  },
  {
   "cell_type": "markdown",
   "metadata": {},
   "source": [
    "### To be continued... \n",
    "Your results from this problem will be collected along with those from all other groups. In Part 3 you will analyse these joint results to look for global trends."
   ]
  },
  {
   "cell_type": "markdown",
   "metadata": {},
   "source": [
    "---"
   ]
  },
  {
   "cell_type": "markdown",
   "metadata": {},
   "source": [
    "## Problem 2:\n",
    "\n",
    "The data from the psmsl database that we used in Problem 1 are sampled monthly or yearly. Part of the scatter we see comes from variations that happen within a month, related to the local tides and other effects. In this problem you get to work with data sampled every hour, from a different database to look into more detail at how sea levels can vary over short time spans."
   ]
  },
  {
   "cell_type": "markdown",
   "metadata": {},
   "source": [
    "## 2.a \n",
    "\n",
    "* Load in the high-sampling data for Friday harbor from the file linked in the Canvas assignment by running the next code block. These data have been sampled every hour and were downloaded from here:\n",
    "https://tidesandcurrents.noaa.gov/waterlevels.html?id=9449880&units=standard&bdate=20240307&edate=20240407&timezone=GMT&datum=MLLW&interval=h&action=\n",
    "You only need to load the data below, which has been pre-downloaded.\n",
    "\n",
    "* Run the code block to plot the data.\n",
    "\n",
    "* Check out the data format that pandas gives."
   ]
  },
  {
   "cell_type": "code",
   "execution_count": null,
   "metadata": {},
   "outputs": [],
   "source": [
    "# Run this to load the data as a pandas dataframe\n",
    "\n",
    "# Friday harbor tides data\n",
    "fname = 'CO-OPS_9449880_wl.csv'\n",
    "\n",
    "df = pd.read_csv(fname, delimiter = ',', parse_dates=[['Date', 'Time (GMT)']])"
   ]
  },
  {
   "cell_type": "code",
   "execution_count": null,
   "metadata": {},
   "outputs": [],
   "source": [
    "# Run this to plot the data\n",
    "\n",
    "# Convert time and height to numpy arrays for easy plotting\n",
    "time= df['Date_Time (GMT)'].to_numpy()\n",
    "height = df['Predicted (ft)'].to_numpy()\n",
    "\n",
    "# Make a big figure to show all the data clearly\n",
    "plt.figure(figsize = (15,3))\n",
    "# plot the sea height data:\n",
    "plt.plot(time,height,'ro')\n",
    "plt.grid()\n",
    "# Labels, title, beautification\n",
    "plt.xlabel('Date (year)')\n",
    "plt.ylabel('Sea height (ft)')\n",
    "plt.title('Sea height at station')\n",
    "plt.legend(['measurements','best linear fit'],loc=4)\n",
    "plt.axis('tight')\n",
    "plt.show()"
   ]
  },
  {
   "cell_type": "code",
   "execution_count": null,
   "metadata": {},
   "outputs": [],
   "source": [
    "# Check out the df object. For example, print out the times to see their format.\n",
    "\n",
    "df['Date_Time (GMT)']"
   ]
  },
  {
   "cell_type": "markdown",
   "metadata": {},
   "source": [
    "## 2.b\n",
    "\n",
    "* Check that all time intervals are 1 hour long (i.e. that successive points are spaced by 1 hour)\n",
    "\n",
    "Hint: try a simple subtraction between data in the time series. This may come in handy https://pandas.pydata.org/pandas-docs/stable/reference/api/pandas.Series.dt.total_seconds.html"
   ]
  },
  {
   "cell_type": "code",
   "execution_count": null,
   "metadata": {},
   "outputs": [],
   "source": [
    "# BEGIN SOLUTION\n",
    "\n",
    "#END SOLUTION"
   ]
  },
  {
   "cell_type": "markdown",
   "metadata": {},
   "source": [
    "## 2.c\n",
    "\n",
    "* Find the index of the time array that corresponds to the 9th day since the start of the time series.\n",
    "* Zoom in onto a week-long portion of the data series and plot height vs time for only that portion."
   ]
  },
  {
   "cell_type": "code",
   "execution_count": null,
   "metadata": {},
   "outputs": [],
   "source": [
    "# YOUR CODE HERE"
   ]
  },
  {
   "cell_type": "markdown",
   "metadata": {},
   "source": [
    "## 2.d\n",
    "\n",
    "* Apply your Fourier interpolation from Part 1 to the shortened time series from 2.c. Make any adaptations needed to the data points.\n",
    "* Plot the height versus time (with any rescaling you may have needed to do) for the shortened time series and overplot the interpolation solution. Make sure your plot is big enough to see the data clearly.\n",
    "\n",
    "Hint: remember that the trigonometric interpolation implementation assumes the x data are mapped to [0,2$\\pi$)."
   ]
  },
  {
   "cell_type": "code",
   "execution_count": null,
   "metadata": {},
   "outputs": [],
   "source": [
    "# YOUR CODE HERE"
   ]
  },
  {
   "cell_type": "markdown",
   "metadata": {},
   "source": [
    "## 2.e\n",
    "\n",
    "* Once you make sure the results of your interpolation in 2.d are reasonable, perform the interpolation for the full dataset.\n",
    "* Produce a plot of the height vs time data (again with any rescaling you may have needed to do).\n",
    "* Overplot the interpolation for the full time series. Make sure your plot is big enough to see the data clearly."
   ]
  },
  {
   "cell_type": "code",
   "execution_count": null,
   "metadata": {},
   "outputs": [],
   "source": [
    "# YOUR CODE HERE"
   ]
  },
  {
   "cell_type": "markdown",
   "metadata": {},
   "source": [
    "## 2.f\n",
    "\n",
    "* Visualize in some way the common coefficients from your two interpolations (short vs full time series).\n",
    "* Comment on any differences you see and why they may exist."
   ]
  },
  {
   "cell_type": "code",
   "execution_count": null,
   "metadata": {},
   "outputs": [],
   "source": [
    "# YOUR CODE HERE"
   ]
  },
  {
   "cell_type": "markdown",
   "metadata": {},
   "source": [
    "## 2.g\n",
    "\n",
    "* Print the largest (in absolute terms) coefficient of the Fourier interpolation of the full time series.\n",
    "* Which wavenumber k does this coefficient correspond to?\n",
    "* What is the period of this component as measured in hours? Store this value in a variable `T`"
   ]
  },
  {
   "cell_type": "code",
   "execution_count": null,
   "metadata": {},
   "outputs": [],
   "source": [
    "# YOUR CODE HERE"
   ]
  },
  {
   "cell_type": "code",
   "execution_count": null,
   "metadata": {},
   "outputs": [],
   "source": [
    "# If all is well your code should pass this test\n",
    "assert np.abs(T-24.) < 2"
   ]
  },
  {
   "cell_type": "markdown",
   "metadata": {},
   "source": [
    "## 2.h\n",
    "\n",
    "* Plot the height vs time data from the full time series again, and overplot a line that corresponds to the contribution of the dominant component of the Fourier interpolation (the term that has coefficient equal to the max one you found in 2.e).\n",
    "* Comment on whether that captures the main oscillation you see by eye."
   ]
  },
  {
   "cell_type": "code",
   "execution_count": null,
   "metadata": {},
   "outputs": [],
   "source": [
    "# YOUR CODE HERE"
   ]
  },
  {
   "cell_type": "code",
   "execution_count": null,
   "metadata": {},
   "outputs": [],
   "source": [
    "# YOUR COMMENT HERE"
   ]
  }
 ],
 "metadata": {
  "kernelspec": {
   "display_name": "Python [conda env:python36]",
   "language": "python",
   "name": "conda-env-python36-py"
  },
  "language_info": {
   "codemirror_mode": {
    "name": "ipython",
    "version": 3
   },
   "file_extension": ".py",
   "mimetype": "text/x-python",
   "name": "python",
   "nbconvert_exporter": "python",
   "pygments_lexer": "ipython3",
   "version": "3.6.12"
  }
 },
 "nbformat": 4,
 "nbformat_minor": 2
}
