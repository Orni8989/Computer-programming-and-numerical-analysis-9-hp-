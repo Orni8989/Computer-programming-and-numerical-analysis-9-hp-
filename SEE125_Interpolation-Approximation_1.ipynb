{
 "cells": [
  {
   "cell_type": "markdown",
   "metadata": {},
   "source": [
    "## Problem statement:\n",
    "    \n",
    "Learn how to approximate a function, if you are given its values at discrete points. \n",
    "\n",
    "Let's say we know the function's values at points $x_j$, namely $f(x_j)$. \n",
    "\n",
    "We can find an *approximation* to the function $f(x)$, by a function $p (x)$. We can decompose the function $p(x)$ into a set of basis functions $\\phi(x)$, multiplied by some coefficients $c_k$:\n",
    "\n",
    "$ p(x) = \\sum_{k=0}^{n-1} c_k \\phi_k(x)$.\n",
    "\n",
    "We will assume that the $\\phi_k$ are linearly independent.\n",
    "\n",
    "There are two distinct approaches of figuring out the right form for $p(x)$:\n",
    "- interpolation\n",
    "- approximation\n",
    "\n",
    "# Interpolation\n",
    "\n"
   ]
  },
  {
   "cell_type": "code",
   "execution_count": 12,
   "metadata": {},
   "outputs": [],
   "source": [
    "import numpy as np\n",
    "import matplotlib.pyplot as plt\n"
   ]
  },
  {
   "cell_type": "markdown",
   "metadata": {},
   "source": [
    "## The data\n",
    "\n",
    "For all methods below, let's assume we have data $x = {0, 2/3, 1}$ and $y = {1, 1/2, 0}$."
   ]
  },
  {
   "cell_type": "code",
   "execution_count": 13,
   "metadata": {},
   "outputs": [
    {
     "data": {
      "image/png": "[encoded data removed]",
      "text/plain": [
       "<Figure size 432x288 with 1 Axes>"
      ]
     },
     "metadata": {
      "needs_background": "light"
     },
     "output_type": "display_data"
    }
   ],
   "source": [
    "x = np.array([0, 2/3, 1])\n",
    "y = np.array([1, 1/2, 0])\n",
    "\n",
    "plt.scatter(x, y)\n",
    "plt.xlabel('x', fontsize=16)\n",
    "plt.ylabel('y', fontsize=16)\n",
    "plt.show()"
   ]
  },
  {
   "cell_type": "markdown",
   "metadata": {},
   "source": [
    "We want to fit a polynomial of order 2 (i.e. three coefficients for three data points):\n",
    "\n",
    "$$p(x) = c_0 + c_1 x + c_2 x^2$$\n",
    "\n",
    "such that $p(x_i) = y_i$ for all $i, i = 0\\ldots 2$."
   ]
  },
  {
   "cell_type": "markdown",
   "metadata": {},
   "source": [
    "Careful with the order of multiplication when combining `np.array` with `np.poly1d` objects:"
   ]
  },
  {
   "cell_type": "markdown",
   "metadata": {},
   "source": [
    "## Polynomial interpolation via monomial basis functions\n",
    "\n",
    "For our example we are getting the following system of equations\n",
    "\n",
    "\\begin{eqnarray}\n",
    "c_0 + c_1 x_0 + c_2 x_0^2 = y_0 \\\\\n",
    "c_0 + c_1 x_1 + c_2 x_1^2 = y_1 \\\\\n",
    "c_0 + c_1 x_2 + c_2 x_2^2 = y_2\n",
    "\\end{eqnarray}\n",
    "\n",
    "which can be written as a matrix equation involving the so called **Vandermonde** matrix:\n",
    "\n",
    "$$\\begin{pmatrix}\n",
    "1 & x_0 & x_0^2 \\\\\n",
    "1 & x_1 & x_1^2 \\\\\n",
    "1 & x_2 & x_2^2  \\end{pmatrix} \n",
    "\\begin{pmatrix}c_0 \\\\ c_1 \\\\ c_2\\end{pmatrix} =\n",
    "\\begin{pmatrix}y_0 \\\\ y_1 \\\\ y_2\\end{pmatrix}\n",
    "$$\n",
    "\n",
    "So in our case:\n",
    "\n",
    "$$\\begin{pmatrix}\n",
    "1 & 0 & 0 \\\\\n",
    "1 & \\frac{2}{3} & \\frac{4}{9} \\\\\n",
    "1 & 1 & 1  \\end{pmatrix} \n",
    "\\begin{pmatrix}c_0 \\\\ c_1 \\\\ c_2\\end{pmatrix} =\n",
    "\\begin{pmatrix}1 \\\\ \\frac{1}{2} \\\\ 0\\end{pmatrix}\n",
    "$$"
   ]
  },
  {
   "cell_type": "markdown",
   "metadata": {},
   "source": [
    "We see immidiately that $c_0 = 1$ and we get a reduced $2\\times 2$ system for the remaining coefficients $c_1$ and $c_2$.\n",
    "\n",
    "$$\\begin{pmatrix}\n",
    "\\frac{2}{3} & \\frac{4}{9} \\\\\n",
    "1 & 1  \\end{pmatrix} \n",
    "\\begin{pmatrix}c_1 \\\\ c_2\\end{pmatrix} =\n",
    "\\begin{pmatrix}-\\frac{1}{2} \\\\ -1\\end{pmatrix}\n",
    "$$"
   ]
  },
  {
   "cell_type": "markdown",
   "metadata": {},
   "source": [
    "We can solve this by using Cramer's rule.\n",
    "\n",
    "$$\\begin{eqnarray}\n",
    "D & = & \\begin{vmatrix} \\frac{2}{3} & \\frac{4}{9} \\\\ 1 & 1 \\end{vmatrix} & = & \\frac{2}{3} - \\frac{4}{9} & = & \\frac{2}{9} \\\\\n",
    "D_x & = & \\begin{vmatrix} -\\frac{1}{2} & \\frac{4}{9} \\\\ -1 & 1 \\end{vmatrix} & = & -\\frac{1}{2} + \\frac{4}{9} & = & -\\frac{1}{18} \\\\\n",
    "D_y & = & \\begin{vmatrix} \\frac{2}{3} & -\\frac{1}{2} \\\\ 1 & -1 \\end{vmatrix} & = & -\\frac{2}{3} + \\frac{1}{2} & = & -\\frac{1}{6}\n",
    "\\end{eqnarray}$$\n",
    "\n",
    "$$\\begin{eqnarray}\n",
    "c_1 & = & \\frac{D_x}{D} & = & -\\frac{1}{18} \\cdot \\frac{9}{2} & = & -\\frac{1}{4} \\\\\n",
    "c_2 & = & \\frac{D_y}{D} & = & -\\frac{1}{6} \\cdot \\frac{9}{2}  & = & -\\frac{3}{4}\n",
    "\\end{eqnarray}$$\n",
    "\n",
    "And therefore our interpolating polynomial is\n",
    "\n",
    "$$p(x) = c_2 x^2 + c_1 x + c_0 = -\\frac{3}{4}x^2 -\\frac{1}{4} x + 1$$"
   ]
  },
  {
   "cell_type": "code",
   "execution_count": 17,
   "metadata": {},
   "outputs": [],
   "source": [
    "np.vander?"
   ]
  },
  {
   "cell_type": "code",
   "execution_count": 28,
   "metadata": {},
   "outputs": [
    {
     "name": "stdout",
     "output_type": "stream",
     "text": [
      "       2\n",
      "-0.75 x - 0.25 x + 1\n"
     ]
    }
   ],
   "source": [
    "v_x = np.vander(x)\n",
    "\n",
    "# solve the system\n",
    "sol = np.linalg.solve(v_x,y)\n",
    "\n",
    "# Construct a polynomial from the solution\n",
    "p = np.poly1d(sol)\n",
    "print(p)"
   ]
  },
  {
   "cell_type": "code",
   "execution_count": 29,
   "metadata": {},
   "outputs": [
    {
     "data": {
      "image/png": "[encoded data removed]",
      "text/plain": [
       "<Figure size 432x288 with 1 Axes>"
      ]
     },
     "metadata": {
      "needs_background": "light"
     },
     "output_type": "display_data"
    }
   ],
   "source": [
    "x = np.array([0, 2/3, 1])\n",
    "y = np.array([1, 1/2, 0])\n",
    "\n",
    "plt.scatter(x, y, label = 'data')\n",
    "\n",
    "# points to evaluate the polynomial for plotting\n",
    "xarr = np.linspace(0,1,20)\n",
    "\n",
    "\n",
    "plt.plot(xarr, p(xarr), label = 'interpolating polynomial')\n",
    "plt.legend()\n",
    "plt.xlabel('x', fontsize=16)\n",
    "plt.ylabel('y', fontsize=16)\n",
    "plt.show()"
   ]
  },
  {
   "cell_type": "markdown",
   "metadata": {},
   "source": [
    "\n",
    "### Excursion: numpy's poly1d objects\n",
    "\n",
    "> Polynomials can be represented by `np.poly1d` objects. \n",
    "> These will allow easy addition, multiplication and derivation."
   ]
  },
  {
   "cell_type": "code",
   "execution_count": 82,
   "metadata": {},
   "outputs": [
    {
     "name": "stdout",
     "output_type": "stream",
     "text": [
      "   5         4        3          2\n",
      "1 x - 2.168 x + 1.72 x - 0.6225 x + 0.1008 x - 0.00562\n",
      " \n",
      "120\n",
      "   5         4        3          2\n",
      "1 x - 2.168 x + 1.72 x - 0.6225 x + 0.1008 x - 0.00562\n"
     ]
    }
   ],
   "source": [
    "# example: calculate the polynomial (x-x0)*(x-x1)*(x-x2)*(x-x3)*(x-x4) for five random x0...x4\n",
    "\n",
    "xi = np.random.random(5)\n",
    "pp = np.poly1d(1.0)\n",
    "pp = 1.0\n",
    "for xii in xi:\n",
    "    pp *= np.poly1d([1, -xii])\n",
    "print(pp)\n",
    "print(pp.deriv(5))     # this should be 5! = 120\n",
    "\n",
    "# equivalently:\n",
    "pp = np.poly1d(xi,r=True)\n",
    "print(pp)"
   ]
  },
  {
   "cell_type": "code",
   "execution_count": 15,
   "metadata": {},
   "outputs": [
    {
     "data": {
      "text/plain": [
       "array([3, 4])"
      ]
     },
     "execution_count": 15,
     "metadata": {},
     "output_type": "execute_result"
    }
   ],
   "source": [
    "np.array([3, 2])*np.poly1d([1,2])  # this will turn the coefficients into an array and multiply elements"
   ]
  },
  {
   "cell_type": "code",
   "execution_count": 16,
   "metadata": {},
   "outputs": [
    {
     "data": {
      "text/plain": [
       "poly1d([3, 8, 4])"
      ]
     },
     "execution_count": 16,
     "metadata": {},
     "output_type": "execute_result"
    }
   ],
   "source": [
    "np.poly1d([1,2])*np.array([3, 2])  # this will turn the np.array into another polynomial..."
   ]
  },
  {
   "cell_type": "markdown",
   "metadata": {},
   "source": [
    "## Polynomial interpolation using Lagrange polynomials"
   ]
  },
  {
   "cell_type": "markdown",
   "metadata": {},
   "source": [
    "Next we choose our basis functions to be the Lagrange polynomials: \n",
    "\\begin{equation}\n",
    "L_k(x) = \\frac{\\Pi_{j=0,j\\neq k}^{n-1} (x-x_j)}{\\Pi_{j=0,j\\neq k}^{n-1}(x_k - x_j}, \\,\\,\\, k = 0,1,...n-1\n",
    "\\end{equation}\n",
    "\n",
    "Recall that (x_j,y_j) are our data points.\n",
    "The denominator is thus a constant, it does not depend on x. The numerator is a polynomial of degree n-1 in x. The Lagrange polynomial $L_k(x)$ is 1 at $x_k$ and is zero at all points other $x_j, j\\neq k$. Namely: \n",
    "\\begin{equation}\n",
    "L_k(x_j) = \\delta_{kj}\n",
    "\\end{equation}\n",
    "where $\\delta_{kj}$ is the Kroenecker delta.\n",
    "\n"
   ]
  },
  {
   "cell_type": "markdown",
   "metadata": {},
   "source": [
    "For 3 data points $x_0, x_1, x_2$, the Lagrange polynomials are:\n",
    "\\begin{equation}\n",
    "L_0(x) = \\frac{(x-x_1)(x-x_2)}{(x_0 - x_1)(x_0-x_2)}\\\\\n",
    "L_1(x) = \\frac{(x-x_0)(x-x_2)}{(x_1 - x_0)(x_1-x_2)}\\\\\n",
    "L_2(x) = \\frac{(x-x_0)(x-x_1)}{(x_2 - x_0)(x_2-x_1)}\\\\\n",
    "\\end{equation}"
   ]
  },
  {
   "cell_type": "markdown",
   "metadata": {},
   "source": [
    "Our interpolating polynomial for n data points is:\n",
    "\\begin{equation}\n",
    "p(x) = \\sum_{k=0}^{n-1} y_k L_k(x)\n",
    "\\end{equation}\n",
    "\n",
    "you can verify that this indeed goes through the data points ($x_j, y_j$)."
   ]
  },
  {
   "cell_type": "markdown",
   "metadata": {},
   "source": [
    "Let's see what the interpolating polynomial is for our example data points."
   ]
  },
  {
   "cell_type": "markdown",
   "metadata": {},
   "source": [
    "$$\\begin{eqnarray}\n",
    "p(x) & = & y_0\\frac{(x-x_1)(x-x_2)}{(x_0-x_1)(x_0-x_2)} + y_1\\frac{(x-x_0)(x-x_2)}{(x_1-x_0)(x_0-x_2)} + y_2\\frac{(x-x_0)(x-x_1)}{(x_2-x_0)(x_2-x_1)} \\\\\n",
    "& = & 1\\frac{(x-\\frac{2}{3})(x-1)}{(0-\\frac{2}{3})(0-1)} + \\frac{1}{2}\\frac{(x-0)(x-1)}{(\\frac{2}{3}-0)(\\frac{2}{3}-1)} + 0\\frac{(x-0)(x-\\frac{2}{3})}{(1-0)(1-\\frac{2}{3})} \\\\\n",
    "& = & \\frac{3}{2}(x-\\frac{2}{3})(x-1) - \\frac{9}{4} x (x-1) \\\\\n",
    "& = & (\\frac{3}{2}-\\frac{9}{4}) x^2 - (1+\\frac{3}{2}-\\frac{9}{4}) x + 1 \\\\\n",
    "& = & -\\frac{3}{4} x^2 - \\frac{1}{4} x + 1\n",
    "\\end{eqnarray}$$  "
   ]
  },
  {
   "cell_type": "code",
   "execution_count": 76,
   "metadata": {},
   "outputs": [
    {
     "name": "stdout",
     "output_type": "stream",
     "text": [
      "[0.         0.66666667 1.        ] [1.  0.5 0. ]\n",
      "       2\n",
      "-0.75 x - 0.25 x + 1\n"
     ]
    }
   ],
   "source": [
    "print(x,y)\n",
    "L0 = np.poly1d((1,-x[1]))*np.poly1d((1,-x[2]))*y[0]/((x[0]-x[1])*(x[0]-x[2]))\n",
    "L1 = np.poly1d((1,-x[0]))*np.poly1d((1,-x[2]))*y[1]/((x[1]-x[0])*(x[1]-x[2]))\n",
    "L2 = np.poly1d((1,-x[0]))*np.poly1d((1,-x[1]))*y[2]/((x[2]-x[0])*(x[2]-x[1]))\n",
    "\n",
    "pL =  L0+L1+L2\n",
    "print(pL)"
   ]
  },
  {
   "cell_type": "code",
   "execution_count": 80,
   "metadata": {},
   "outputs": [
    {
     "data": {
      "image/png": "[encoded data removed]",
      "text/plain": [
       "<Figure size 432x288 with 1 Axes>"
      ]
     },
     "metadata": {
      "needs_background": "light"
     },
     "output_type": "display_data"
    }
   ],
   "source": [
    "plt.scatter(x, y, label = 'data')\n",
    "\n",
    "# points to evaluate the polynomial for plotting\n",
    "xarr = np.linspace(0,1,20)\n",
    "\n",
    "\n",
    "#plt.plot(xarr, p(xarr), label = 'interpolating polynomial 1')\n",
    "\n",
    "plt.plot(xarr, pL(xarr), label = 'interpolating polynomial')\n",
    "\n",
    "# individual Lagrange polynomials\n",
    "plt.plot(xarr, L0(xarr), label = '$L_0$')\n",
    "plt.plot(xarr, L1(xarr), label = '$L_1$')\n",
    "plt.plot(xarr, L2(xarr), label = '$L_2$')\n",
    "\n",
    "plt.legend()\n",
    "plt.xlabel('x', fontsize=16)\n",
    "plt.ylabel('y', fontsize=16)\n",
    "plt.show()"
   ]
  },
  {
   "cell_type": "markdown",
   "metadata": {},
   "source": [
    "Both methods, however can have large errors when high-degree polynomials are needed, depending on the exact placement of the grid points. Check out this example:"
   ]
  },
  {
   "cell_type": "code",
   "execution_count": 70,
   "metadata": {},
   "outputs": [
    {
     "data": {
      "image/png": "[encoded data removed]",
      "text/plain": [
       "<Figure size 1008x432 with 2 Axes>"
      ]
     },
     "metadata": {
      "needs_background": "light"
     },
     "output_type": "display_data"
    }
   ],
   "source": [
    "N = 16\n",
    "\n",
    "# Generate the x data\n",
    "x = np.linspace(-1, 1,N)\n",
    "\n",
    "# The underlying function we wish to approximate\n",
    "def f(x):\n",
    "    return 1/(1 + 25*x*x)\n",
    "\n",
    "# Generate the y data\n",
    "y = f(x)\n",
    "\n",
    "# Vandermode\n",
    "v_x = np.vander(x)\n",
    "# solve the system\n",
    "sol = np.linalg.solve(v_x,y)\n",
    "# Construct a polynomial from the solution\n",
    "p = np.poly1d(sol)\n",
    "\n",
    "\n",
    "# Lagrange\n",
    "from scipy.interpolate import lagrange\n",
    "poly = lagrange(x, y) # WARNING! THIS FUNCTIONALITY IS UNSTABLE - DO NOT USE FOR MORE THAN ~20 POINTS\n",
    "\n",
    "\n",
    "fig, ax = plt.subplots(ncols = 2, figsize = (14,6))\n",
    "\n",
    "z = np.linspace(-np.pi, np.pi, 500)\n",
    "ax[0].plot(z, f(z), label = 'True function')\n",
    "\n",
    "ax[0].plot(z, p(z), label = 'Monomial basis interpolation')\n",
    "\n",
    "ax[0].plot(z, poly(z), label = 'Lagrange basis interpolation')\n",
    "\n",
    "ax[0].scatter(x, y, label = 'data points')\n",
    "ax[0].set_ylim(-0.2, 1.2)\n",
    "ax[0].set_xlim(-1.2,1.2)\n",
    "ax[0].set_title('Equidistant nodes')\n",
    "ax[0].legend()\n",
    "\n",
    "# Repeat with different grid points (Chebyshev)\n",
    "a = np.arange(0, N)*np.pi/(N-1)\n",
    "x = -np.cos(a)\n",
    "# Generate the y data\n",
    "y = f(x)\n",
    "# Vandermode\n",
    "v_x = np.vander(x)\n",
    "# solve the system\n",
    "sol = np.linalg.solve(v_x,y)\n",
    "# Construct a polynomial from the solution\n",
    "p = np.poly1d(sol)\n",
    "# Lagrange\n",
    "poly = lagrange(x, y) # WARNING! THIS FUNCTIONALITY IS UNSTABLE - DO NOT USE FOR MORE THAN ~20 POINTS\n",
    "\n",
    "\n",
    "ax[1].plot(z, f(z), label = 'True function')\n",
    "\n",
    "ax[1].plot(z, p(z), ls = '-', label = 'Monomial basis interpolation')\n",
    "\n",
    "ax[1].plot(z, poly(z), ls = '-.' , label = 'Lagrange basis interpolation')\n",
    "\n",
    "ax[1].scatter(x, y, label = 'data points')\n",
    "ax[1].set_ylim(0, 1.2)\n",
    "ax[1].set_xlim(-1.2,1.2)\n",
    "ax[1].set_title('Chebyshev nodes')\n",
    "plt.show()"
   ]
  },
  {
   "cell_type": "markdown",
   "metadata": {},
   "source": [
    "## Approximation Error Theorem\n",
    "\n",
    "The error associated with approximating a function $f(x) \\in C^{n}[a, b]$ with a polynomial that interpolates $f$ at $n$ distinct points in $[a, b]$ is given by\n",
    "\n",
    "$$f(x) = p(x) + E_n(x)$$\n",
    "\n",
    "where the error $E_n(x)$ can be shown to have the form:\n",
    "\n",
    "$$E_n(x) = (x − x_0)(x − x_1) \\ldots (x − x_{n-1})\\frac{f^{(n)}(\\xi)}{n!}$$\n",
    "\n",
    "and where $\\xi \\in [a, b]$ and depends on $x$.\n",
    "\n",
    "*Proof:* If $x = x_i$ for some $i$ this is true because both sides = 0. Assume that $x^\\prime \\ne x_i$ for $i=0\\ldots n-1$. Define \n",
    "\n",
    "$$w(t) = \\prod_{i=0}^{n-1} (t-x_i)$$\n",
    "\n",
    "which is called the node polynomial and which vanishes at all $x_i$. \n",
    "But notice that $w(x^\\prime) \\ne 0$. We can now define \n",
    "\n",
    "$$F(x) = f(x)-p(x)-K w(x)$$\n",
    "\n",
    "Which is a function equal to zero at all $x_i$. And by choosing \n",
    "\n",
    "$$K = \\frac{f(x^\\prime)-p(x^\\prime)}{w(x^\\prime)}$$\n",
    "\n",
    "we get an additional zero at $x^\\prime$.\n",
    "\n",
    "In total we then have that $F(x) = 0$ at $n+1$ values of $x$, namely at $x_i, i=0\\ldots n-1$ and at $x^\\prime$. By Rolle's theorem we therefore have that $F^{(n)}(x) = 0$ at one point, call it $\\xi$. Now, because \n",
    "$p^{(n)}(x) = 0$ and $w^{(n)} = n!$ we have:\n",
    "\n",
    "$$F^{(n)}(\\xi) = f^{(n)}(\\xi) - K n! = 0$$\n",
    "\n",
    "Recalling the value of $K$ and solving for $f(x^\\prime)-p(x^\\prime)$ we have that the error in the approximation of $f(x)$ with a polynomial of degree $n-1$ is\n",
    "\n",
    "$$E_n(x^\\prime) := f(x^\\prime) - p(x^\\prime) = \\frac{f^{(n)}(\\xi)}{n!} \\prod_{i=0}^{n-1} (x^\\prime-x_i)\n",
    "= (x^\\prime − x_0)(x^\\prime − x_1) \\ldots (x^\\prime − x_{n-1})\\frac{f^{(n)}(\\xi)}{n!} $$"
   ]
  },
  {
   "cell_type": "markdown",
   "metadata": {},
   "source": [
    "## Chebyshev nodes\n",
    "\n",
    "The previous result shows that we can influence the error in the approximation by carefully chosing the points of\n",
    "interpolation $x_i, i=0\\ldots n-1$. \n",
    "It turns out (without proof) that the best choice is (scaled versions of) **Chebyshev nodes**.\n",
    "\n",
    "In the special case that $x \\in [-1, 1]$ these are\n",
    "\n",
    "$$x_i = \\cos\\left(\\frac{2i+1}{2n}\\right) \\quad {\\rm for} \\quad i=0\\ldots n-1$$\n",
    "\n",
    "If we are dealing with a different interval $[a, b]$ instead of $[−1, 1]$ we make the transformation:\n",
    "\n",
    "$$t_i = \\frac{1}{2}(a+b) + \\frac{1}{2}(a-b) (x_i)$$"
   ]
  },
  {
   "cell_type": "markdown",
   "metadata": {},
   "source": [
    "The following plot shows how the Chebyshev nodes can be found by distributing points regularyly on a semi-circle (blue points) and then projecting them down onto the x-axis. The green points are the Chebyshev nodes for the interval [-1, 1] in the case of n = 10."
   ]
  },
  {
   "cell_type": "code",
   "execution_count": 15,
   "metadata": {},
   "outputs": [
    {
     "data": {
      "image/png": "[encoded data removed]",
      "text/plain": [
       "<Figure size 432x288 with 1 Axes>"
      ]
     },
     "metadata": {
      "needs_background": "light"
     },
     "output_type": "display_data"
    }
   ],
   "source": [
    "N = 10\n",
    "a = np.linspace(0, np.pi)\n",
    "\n",
    "t = np.cos(a)\n",
    "s = np.sin(a)\n",
    "\n",
    "xi = np.cos(np.pi*(2*np.arange(N)+1)/(2*N))\n",
    "yi = np.sin(np.pi*(2*np.arange(N)+1)/(2*N))\n",
    "y0 = np.zeros(xi.shape)\n",
    "\n",
    "plt.plot(t, s)\n",
    "plt.scatter(xi, yi)\n",
    "plt.scatter(xi, y0)\n",
    "for xx, yy, yy0 in zip(xi, yi, y0):\n",
    "    plt.arrow(xx, yy, 0.0, yy0-yy)\n",
    "ax = plt.gca()\n",
    "ax.set_aspect('equal')\n",
    "plt.show()"
   ]
  },
  {
   "cell_type": "markdown",
   "metadata": {},
   "source": [
    "## Cubic spline interpolation\n",
    "\n",
    "Idea: fit every pair of neighbouring points with a cubic polynomial. Choose coefficients such that first and second derivatives agree at the interfaces."
   ]
  },
  {
   "cell_type": "markdown",
   "metadata": {},
   "source": [
    "Example with three pairs of $x, y$ coordinates. We get four equations to fit $y_0, y_1$ with two cubic polynomials (splines):\n",
    "\n",
    "$$\\begin{eqnarray}\n",
    "c_0 x_0^3 + c_1 x_0^2 + c_2 x_0 + c_3 & = & y_0 \\\\\n",
    "c_0 x_1^3 + c_1 x_1^2 + c_2 x_1 + c_3 & = & y_1 \\\\\n",
    "d_0 x_1^3 + d_1 x_1^2 + d_2 x_1 + d_3 & = & y_1 \\\\\n",
    "d_0 x_2^3 + d_1 x_2^2 + d_2 x_2 + d_3 & = & y_2 \\\\\n",
    "\\end{eqnarray}$$\n",
    "\n",
    "Continuous first and second derivatives at $x_1$:\n",
    "\n",
    "$$\\begin{eqnarray}\n",
    "3 c_0 x_1^2 + 1 c_1 x_1 + c_2  & = & 3 d_0 x_1^2 + 2 d_1 x_1 + d_2 \\\\\n",
    "6 c_0 x_1 + 2 c_1  & = & 6 d_0 x_1 + 2 d_1 \\\\\n",
    "\\end{eqnarray}$$\n",
    "\n",
    "Make second derivatives disappear at extreme points:\n",
    "\n",
    "$$\\begin{eqnarray}\n",
    "6 c_0 x_0 + 2 c_1  & = 0 \\\\\n",
    "6 d_0 x_2 + 2 d_1  & = 0 \\\\\n",
    "\\end{eqnarray}$$\n",
    "\n",
    "The resulting system of equations:\n",
    "\n",
    "$$\\begin{pmatrix}\n",
    "x_0^3 & x_0^2 & x_0 & 1& 0 & 0 & 0 & 0 \\\\\n",
    "x_1^3 & x_1^2 & x_1 & 1& 0 & 0 & 0 & 0 \\\\\n",
    "0 & 0 & 0 & 0 & x_1^3 & x_1^2 & x_1 & 1 \\\\\n",
    "0 & 0 & 0 & 0 & x_2^3 & x_2^2 & x_2 & 1 \\\\\n",
    "3 x_1^2 & 2 x_1 & 1 & 0 & -3 x_1^2 & -2 x_1 & -1 & 0 \\\\\n",
    "6 x_1 & 2 & 0 & 0 & -6 x_1 & -2 & 0 & 0 \\\\\n",
    "6 x_0 & 2 & 0 & 0 & 0 & 0 & 0 & 0 \\\\\n",
    "0 & 0 & 0 & 0 & 6 x_2 & 2 & 0 & 0 \\\\\n",
    "\\end{pmatrix}\n",
    "\\begin{pmatrix}\n",
    "c_0 \\\\ c_1 \\\\ c_2 \\\\ c_3 \\\\ d_0 \\\\ d_1 \\\\ d_2 \\\\ d_3 \\\\\n",
    "\\end{pmatrix} = \n",
    "\\begin{pmatrix}\n",
    "y_0 \\\\ y_1 \\\\ y_2 \\\\ y_3 \\\\ 0 \\\\ 0 \\\\ 0 \\\\ 0 \\\\\n",
    "\\end{pmatrix}$$"
   ]
  },
  {
   "cell_type": "code",
   "execution_count": 83,
   "metadata": {},
   "outputs": [
    {
     "data": {
      "text/plain": [
       "array([[ 0.        ,  0.        ,  0.        ,  1.        ,  0.        ,\n",
       "         0.        ,  0.        ,  0.        ],\n",
       "       [ 0.2962963 ,  0.44444444,  0.66666667,  1.        ,  0.        ,\n",
       "         0.        ,  0.        ,  0.        ],\n",
       "       [ 0.        ,  0.        ,  0.        ,  0.        ,  0.2962963 ,\n",
       "         0.44444444,  0.66666667,  1.        ],\n",
       "       [ 0.        ,  0.        ,  0.        ,  0.        ,  1.        ,\n",
       "         1.        ,  1.        ,  1.        ],\n",
       "       [ 1.33333333,  1.33333333,  1.        ,  0.        , -1.33333333,\n",
       "        -1.33333333, -1.        ,  0.        ],\n",
       "       [ 4.        ,  2.        ,  0.        ,  0.        , -4.        ,\n",
       "        -2.        ,  0.        ,  0.        ],\n",
       "       [ 0.        ,  2.        ,  0.        ,  0.        ,  0.        ,\n",
       "         0.        ,  0.        ,  0.        ],\n",
       "       [ 0.        ,  0.        ,  0.        ,  0.        ,  6.        ,\n",
       "         2.        ,  0.        ,  0.        ]])"
      ]
     },
     "execution_count": 83,
     "metadata": {},
     "output_type": "execute_result"
    }
   ],
   "source": [
    "x = np.array([0, 2/3, 1])\n",
    "y = np.array([1, 1/2, 0])\n",
    "\n",
    "M = np.array([  x[0]**3, x[0]**2, x[0],   1,          0,       0,    0,   0,\n",
    "                x[1]**3, x[1]**2, x[1],   1,          0,       0,    0,   0,\n",
    "                      0,       0,    0,   0,    x[1]**3, x[1]**2, x[1],   1,\n",
    "                      0,       0,    0,   0,    x[2]**3, x[2]**2, x[2],   1,\n",
    "              3*x[1]**2,  2*x[1],    1,   0, -3*x[1]**2, -2*x[1],   -1,   0,\n",
    "                 6*x[1],       2,    0,   0,    -6*x[1],      -2,    0,   0,\n",
    "                 6*x[0],       2,    0,   0,          0,       0,    0,   0,\n",
    "                      0,       0,    0,   0,     6*x[2],       2,    0,   0 ]).reshape((8,8))\n",
    "\n",
    "b = np.array([y[0], y[1], y[1],y[2], 0, 0, 0, 0])\n",
    "M"
   ]
  },
  {
   "cell_type": "code",
   "execution_count": 84,
   "metadata": {},
   "outputs": [
    {
     "name": "stdout",
     "output_type": "stream",
     "text": [
      "         3\n",
      "-0.5625 x - 0.5 x + 1\n",
      "\n",
      "       3         2\n",
      "1.125 x - 3.375 x + 1.75 x + 0.5\n"
     ]
    }
   ],
   "source": [
    "coeffs = np.linalg.solve(M, b)\n",
    "p1 = np.poly1d(coeffs[0:4])\n",
    "p2 = np.poly1d(coeffs[4:8])\n",
    "print(p1)\n",
    "print()\n",
    "print(p2)"
   ]
  },
  {
   "cell_type": "code",
   "execution_count": 73,
   "metadata": {},
   "outputs": [
    {
     "data": {
      "image/png": "[encoded data removed]",
      "text/plain": [
       "<Figure size 432x288 with 1 Axes>"
      ]
     },
     "metadata": {
      "needs_background": "light"
     },
     "output_type": "display_data"
    }
   ],
   "source": [
    "# fig, axs = plt.subplots(3,1, figsize=(8, 12))\n",
    "t1 = np.linspace(x[0], x[1])\n",
    "t2 = np.linspace(x[1], x[2])\n",
    "\n",
    "plt.scatter(x, y, color='red', label='data')\n",
    "plt.plot(t1, p1(t1), label='spline 1')\n",
    "plt.plot(t2, p2(t2), label='spline 2')\n",
    "plt.xlabel('x', fontsize=16)\n",
    "plt.ylabel('y', fontsize=16)\n",
    "plt.legend()\n",
    "plt.show()"
   ]
  },
  {
   "cell_type": "code",
   "execution_count": 74,
   "metadata": {},
   "outputs": [
    {
     "data": {
      "image/png": "[encoded data removed]",
      "text/plain": [
       "<Figure size 432x288 with 1 Axes>"
      ]
     },
     "metadata": {
      "needs_background": "light"
     },
     "output_type": "display_data"
    }
   ],
   "source": [
    "t1 = np.linspace(x[0]-0.1, x[2]+0.1)\n",
    "t2 = np.linspace(x[0]-0.1, x[2]+0.1)\n",
    "plt.scatter(x, y, color='red', label='data')\n",
    "plt.plot(t1, p1(t1), label='spline 1')\n",
    "plt.plot(t2, p2(t2), label='spline 2')\n",
    "plt.xlabel('x', fontsize=16)\n",
    "plt.ylabel('y', fontsize=16)\n",
    "plt.legend()\n",
    "plt.show()"
   ]
  },
  {
   "cell_type": "markdown",
   "metadata": {},
   "source": [
    "# Approximation"
   ]
  },
  {
   "cell_type": "markdown",
   "metadata": {},
   "source": [
    "## Approximation with linear models\n",
    "\n",
    "We have $m$ data points $x_i, y_i, i = 0\\ldots m-1$ and want to approximate the relation between $x$ and $y$ \n",
    "with a linear combination of $n$ functions $f_k, k = 0\\ldots n-1$:\n",
    "\n",
    "$$y_i = c_0 f_0(x_i) + c_1 f_1(x_i) + \\ldots c_{n-1} f_{n-1}(x_i)$$\n",
    "\n",
    "We assume that $m > n$, i.e. we have more data points than functions. *Compare with the interpolation case, \n",
    "when $m = n$!*\n",
    "\n",
    "> Note, that the relation between $y$ and $x$ is **linear in the coefficients** $c_k$, not in $x$!"
   ]
  },
  {
   "cell_type": "markdown",
   "metadata": {},
   "source": [
    "### Example: fitting a straight line\n",
    "\n",
    "$$y_i = c_0 \\cdot 1 + c_1 \\cdot x_i = c_0 + c_1 x_i$$\n",
    "\n",
    "So here $f_0 = 1$ and $f_1 = x$. \n",
    "\n",
    "We want to find the coefficients $c_0, c_1$ which minimize the quadratic deviations\n",
    "(\"least squares\"):\n",
    "\n",
    "$$\\min_{c_0,c_1} \\cal{F(c_0, c_1)} = \\min_{c_0,c_1}\\sum_{i=0}^{m-1} \\big(y_i - (c_0 + c_1 x_i)\\big)^2$$"
   ]
  },
  {
   "cell_type": "markdown",
   "metadata": {},
   "source": [
    "We can find that minimum by differentiating with respect to $c_0$ and $c_1$ and setting the derivatives equal to zero:\n",
    "\n",
    "\\begin{eqnarray}\n",
    "0 = \\frac{\\partial \\cal{F}}{\\partial c_0} & = & \\sum_{i=0}^{m-1} 2\\big(y_i - (c_0 + c_1 x_i) \\big) \\\\\n",
    "0 = \\frac{\\partial \\cal{F}}{\\partial c_1} & = & \\sum_{i=0}^{m-1} 2\\big(y_i - (c_0 + c_1 x_i) x_i \\big)\n",
    "\\end{eqnarray}\n",
    "\n",
    "Taking constants out of the sum and sorting terms, we get:\n",
    "\n",
    "$$\\begin{pmatrix}\n",
    "\\sum 1 & \\sum x_i \\\\\n",
    "\\sum x_i & \\sum x_i^2\n",
    "\\end{pmatrix}  \n",
    "\\begin{pmatrix}\n",
    "c_0 \\\\\n",
    "c_1\n",
    "\\end{pmatrix} = \n",
    "\\begin{pmatrix}\n",
    "\\sum y_i \\\\\n",
    "\\sum x_i y_i\n",
    "\\end{pmatrix}\n",
    "$$\n",
    "\n",
    "Which is a system of linear equations, which can easily be solved to get $c_0$ and $c_1$.\n",
    "\n",
    "Note, that the matrix \n",
    "$$\\mathbf{A} = \\begin{pmatrix}\n",
    "\\sum 1 & \\sum x_i \\\\\n",
    "\\sum x_i & \\sum x_i^2\n",
    "\\end{pmatrix}$$\n",
    "\n",
    "can be written as \n",
    "\n",
    "$$\\mathbf{A} = \\mathbf{D}^{\\mathsf{T}} \\mathbf{D}, \\quad {\\rm where} \\quad \\mathbf{D} = \n",
    "\\begin{pmatrix}\n",
    "1 & x_0 \\\\\n",
    "1 & x_1 \\\\\n",
    "\\vdots & \\vdots \\\\\n",
    "1 & x_{m-1}\n",
    "\\end{pmatrix}$$\n",
    "\n",
    "and where $\\mathbf{D}$ is the design matrix of this problem, which in this case is the Vandermonde matrix we have used for interpolation before. However, we are only using the first $n$ columns of the Vandermonde matrix, \n",
    "where $n$ is the order of the polynomial we want to fit."
   ]
  },
  {
   "cell_type": "code",
   "execution_count": 4,
   "metadata": {},
   "outputs": [
    {
     "data": {
      "image/png": "[encoded data removed]",
      "text/plain": [
       "<Figure size 432x288 with 1 Axes>"
      ]
     },
     "metadata": {
      "needs_background": "light"
     },
     "output_type": "display_data"
    },
    {
     "data": {
      "text/plain": [
       "array([3.01861857, 2.00966428])"
      ]
     },
     "execution_count": 4,
     "metadata": {},
     "output_type": "execute_result"
    }
   ],
   "source": [
    "import math\n",
    "import numpy as np\n",
    "import matplotlib.pyplot as plt\n",
    "\n",
    "M = 37\n",
    "x = np.linspace(0.0, 1.0, M)\n",
    "y = 2.0*x + 3.0 + 0.1*np.random.randn(M)\n",
    "plt.scatter(x, y)\n",
    "plt.show()\n",
    "\n",
    "D = np.zeros((M, 2))\n",
    "D[:, 0] = np.ones(M)\n",
    "D[:, 1] = x\n",
    "\n",
    "A = np.transpose(D) @ D\n",
    "b = np.transpose(D) @ y\n",
    "c = np.linalg.solve(A, b)\n",
    "c                            # we expect [c[0] = 2.0, c[1] = 3.0]"
   ]
  },
  {
   "cell_type": "code",
   "execution_count": 5,
   "metadata": {},
   "outputs": [
    {
     "data": {
      "image/png": "[encoded data removed]",
      "text/plain": [
       "<Figure size 432x288 with 1 Axes>"
      ]
     },
     "metadata": {
      "needs_background": "light"
     },
     "output_type": "display_data"
    }
   ],
   "source": [
    "plt.scatter(x, y)\n",
    "plt.plot(x, c[1]*x + c[0], color='red')\n",
    "plt.show()"
   ]
  },
  {
   "cell_type": "markdown",
   "metadata": {},
   "source": [
    "## General case\n",
    "\n",
    "It turns out, that in the general case\n",
    "\n",
    "$$y_i = c_0 f_0(x_i) + c_1 f_1(x_i) + \\ldots c_{n-1} f_{n-1}(x_i)$$\n",
    "\n",
    "you will simply have to calculate your design matrix as \n",
    "\n",
    "$$\\mathbf{D} = \n",
    "\\begin{pmatrix}\n",
    "f_0(x_0) & f_1(x_0) & \\ldots & f_n{x_0} \\\\\n",
    "f_0(x_1) & f_1(x_1) & \\ldots & f_n{x_1} \\\\\n",
    "\\vdots & \\vdots & \\ddots & \\vdots \\\\\n",
    "f_0(x_{m-1}) & f_1(x_{m-1}) & \\ldots & f_n{x_{m-1}}\n",
    "\\end{pmatrix}$$\n"
   ]
  },
  {
   "cell_type": "markdown",
   "metadata": {},
   "source": [
    "### Example 2: fitting a sinusoidal function\n",
    "\n",
    "$$y_i = a \\cos(x_i + \\phi)$$\n",
    "\n",
    "with two parameters $a$ and $\\phi$. But that relation is **not** linear in the parameter $\\phi$, so we rewrite the equation as\n",
    "\n",
    "$$y_i = a \\big(\\cos x_i \\cos \\phi - \\sin x_i \\sin \\phi \\big) = (a\\cos \\phi)\\cos x_i - (a\\sin\\phi)\\sin x_i$$\n",
    "\n",
    "So our design matrix becomes\n",
    "\n",
    "$$\\mathbf{D} = \n",
    "\\begin{pmatrix}\n",
    "\\cos x_0 & \\sin x_0 \\\\\n",
    "\\cos x_1 & \\sin x_1 \\\\\n",
    "\\vdots & \\vdots \\\\\n",
    "\\cos x_{m-1} & \\sin x_{m-1}\n",
    "\\end{pmatrix}$$\n",
    "\n",
    "and we are fitting the two coefficients $c_0 = a\\cos \\phi$ and $c_1 = -a \\sin \\phi$, from which we can recover $a$ and $\\phi$ as:\n",
    "\n",
    "$$a = \\sqrt{c_0^2 + c_1^2} \\quad {\\rm and} \\quad \\phi = \\arctan\\frac{-c_1}{c_0}$$"
   ]
  },
  {
   "cell_type": "code",
   "execution_count": 6,
   "metadata": {},
   "outputs": [
    {
     "data": {
      "image/png": "[encoded data removed]",
      "text/plain": [
       "<Figure size 432x288 with 1 Axes>"
      ]
     },
     "metadata": {
      "needs_background": "light"
     },
     "output_type": "display_data"
    }
   ],
   "source": [
    "import math\n",
    "import numpy as np\n",
    "import matplotlib.pyplot as plt\n",
    "\n",
    "M = 37\n",
    "x = np.linspace(-np.pi, np.pi, M)\n",
    "y = 2.0*np.cos(x + math.radians(30.0)) + 0.1*np.random.randn(M)\n",
    "plt.scatter(x, y)\n",
    "plt.show()\n",
    "\n",
    "D = np.zeros((M, 2))\n",
    "D[:, 0] = np.cos(x)\n",
    "D[:, 1] = np.sin(x)"
   ]
  },
  {
   "cell_type": "code",
   "execution_count": 7,
   "metadata": {},
   "outputs": [
    {
     "data": {
      "text/plain": [
       "array([ 1.74012047, -1.01149002])"
      ]
     },
     "execution_count": 7,
     "metadata": {},
     "output_type": "execute_result"
    }
   ],
   "source": [
    "A = np.transpose(D) @ D\n",
    "b = np.transpose(D) @ y\n",
    "c = np.linalg.solve(A, b)\n",
    "c"
   ]
  },
  {
   "cell_type": "code",
   "execution_count": 8,
   "metadata": {},
   "outputs": [
    {
     "name": "stdout",
     "output_type": "stream",
     "text": [
      "2.0127422372665333\n"
     ]
    }
   ],
   "source": [
    "a = np.sqrt(c[0]**2 + c[1]**2)\n",
    "print(a)  "
   ]
  },
  {
   "cell_type": "code",
   "execution_count": 9,
   "metadata": {},
   "outputs": [
    {
     "name": "stdout",
     "output_type": "stream",
     "text": [
      "30.1684030248851\n"
     ]
    }
   ],
   "source": [
    "phi = math.degrees(np.arctan2(-c[1], c[0]))\n",
    "print(phi)                      # we expect 30 deg"
   ]
  },
  {
   "cell_type": "code",
   "execution_count": 10,
   "metadata": {},
   "outputs": [
    {
     "data": {
      "image/png": "[encoded data removed]",
      "text/plain": [
       "<Figure size 432x288 with 1 Axes>"
      ]
     },
     "metadata": {
      "needs_background": "light"
     },
     "output_type": "display_data"
    }
   ],
   "source": [
    "plt.scatter(x, y)\n",
    "plt.plot(x, a*np.cos(x + math.radians(phi)), color='red')\n",
    "plt.show()"
   ]
  },
  {
   "cell_type": "code",
   "execution_count": null,
   "metadata": {},
   "outputs": [],
   "source": []
  }
 ],
 "metadata": {
  "kernelspec": {
   "display_name": "Python [conda env:python36]",
   "language": "python",
   "name": "conda-env-python36-py"
  },
  "language_info": {
   "codemirror_mode": {
    "name": "ipython",
    "version": 3
   },
   "file_extension": ".py",
   "mimetype": "text/x-python",
   "name": "python",
   "nbconvert_exporter": "python",
   "pygments_lexer": "ipython3",
   "version": "3.6.12"
  }
 },
 "nbformat": 4,
 "nbformat_minor": 4
}
