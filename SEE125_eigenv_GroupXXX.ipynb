{
 "cells": [
  {
   "cell_type": "markdown",
   "metadata": {},
   "source": [
    "# Eigenvalues and Eigenvectors\n",
    "\n",
    "- Problem 0 familiarizes you with calling functions from other files.\n",
    "- Problem 1 familiarizes you with the use of a relevant numpy function.\n",
    "- Problem 2 makes you manipulate and reflect upon a method used to find eigenvalues and eigenvectors.\n",
    "- Problem 3 asks you to assess the complexity of the QR method. \n",
    "- Problem 4 tests how you handle a loosely-defined coding task.\n",
    "\n",
    "\n",
    "#### Some questions ask you to write text to explain your solutions - do not skip these."
   ]
  },
  {
   "cell_type": "markdown",
   "metadata": {},
   "source": [
    "## Problem 0\n",
    "\n",
    "Goal: Be able to use functions from another file and to call the function correctly using information from its docstring.\n",
    "\n",
    "Tasks: \n",
    "\n",
    "i) Import the function `testcreate1` from the file SEE125_eig_lib.py\n",
    "\n",
    "ii) Print the function's docstring. Hint: you can use the name of the function followed by `?`.\n",
    "\n",
    "iii) Call the function to create a 4x4 matrix whose 0-0 element is the square root of 21. Store the result in a matrix named `A`.\n",
    "\n",
    "For information on docstrings, see https://www.geeksforgeeks.org/python-docstrings/"
   ]
  },
  {
   "cell_type": "code",
   "execution_count": 2,
   "metadata": {},
   "outputs": [
    {
     "name": "stdout",
     "output_type": "stream",
     "text": [
      " Create a square matrix where \n",
      "        each element's value is the square root of the \n",
      "        previous elements'value increased by 1. \n",
      "\n",
      "        Parameters: \n",
      "                n -- the shape of the matrix will be (n,n) (int)\n",
      "                val2 -- the square root of this number will be the first matrix \n",
      "                        element at row 0, column 0 (float, positive or zero)\n",
      "        Returns: \n",
      "                numpy array of size (n,n)\n",
      "\n",
      "    \n"
     ]
    }
   ],
   "source": [
    "### YOUR CODE HERE\n",
    "\n",
    "from SEE125_eig_lib import testcreate\n",
    "\n",
    "print(testcreate.__doc__)\n",
    "\n",
    "A = testcreate(4, 21)\n",
    "\n",
    "\n"
   ]
  },
  {
   "cell_type": "markdown",
   "metadata": {},
   "source": [
    "## Problem 1\n",
    "\n",
    "Goal: Correct usage of `numpy.linalg.eig` and demonstration of understanding of the result.\n",
    "\n",
    "Background: \n",
    "The normalized direct power method is an iterative method that allows to find the _largest_ eigenvalue of a matrix, and its corresponding eigenvector. We described it during the lecture and implemented it using the following algorithm:\n",
    "\n",
    "$$\n",
    "\\pmb{z}^{(k)} = \\pmb{Aq}^{(k-1)} \\\\\n",
    "\\pmb{q}^{(k)} = \\frac{\\pmb{z}^{(k)}}{\\|\\pmb{z}^{(k)}\\|} \\\\\n",
    "\\mu(\\pmb{q}^{(k)}) = [\\pmb{q}^{(k)}]^T\\pmb{Aq}^{(k)}\n",
    "$$\n",
    "\n",
    "Note: Remember that $^{(k)}$ means the $k^{th}$ iteration. The value $\\mu(\\pmb{q}^{(k)})$ tends toward the largest eigenvalue as $k$ increases.\n",
    "\n",
    "We have implemented this method in the function `power` in the SEE125_eig_lib.py library (code based on page 180).\n",
    "\n",
    "Tasks:\n",
    "\n",
    "i) Import the function `power` from the SEE125_eig_lib.py file.\n",
    "\n",
    "ii) Run it on the matrix `B = np.array([[3,2],[0,1]])`.\n",
    "\n",
    "iii) Compare the resulting eigenvalue and eigenvector with the output from `numpy.linalg.eig`.\n",
    "\n",
    "Hint: The numpy function returns all eigenvalues and eigenvectors but you only need the largest eigenvalue and its eigenvector. "
   ]
  },
  {
   "cell_type": "code",
   "execution_count": 3,
   "metadata": {},
   "outputs": [
    {
     "name": "stdout",
     "output_type": "stream",
     "text": [
      "[[3 2]\n",
      " [0 1]]\n",
      "1 [0.98058068 0.19611614]\n",
      "2 [0.99827437 0.05872202]\n",
      "3 [0.99982205 0.01886457]\n",
      "4 [0.99998071 0.00621106]\n",
      "5 [0.99999787 0.00206185]\n",
      "Largets eigenvalue from power 3.004115191347896, eigenvector from power[0.99999787 0.00206185], largest eigenvalue from linalg 3.0, eigenvector from linalg [1. 0.]\n"
     ]
    }
   ],
   "source": [
    "### BEGIN SOLUTION #####\n",
    "import numpy as np\n",
    "\n",
    "from SEE125_eig_lib import power\n",
    "\n",
    "B = np.array([[3, 2], [0, 1]])\n",
    "print(B)\n",
    "\n",
    "eig_power, vector_power = power(B)\n",
    "\n",
    "def largest_eig(B):\n",
    "    eig_linalg = np.linalg.eig(B)\n",
    "    eig_values = eig_linalg[0]\n",
    "    eig_largest, index = np.max(eig_values), np.argmax(eig_values)\n",
    "    eig_vec_largest = eig_linalg[1][:, index]\n",
    "    return eig_largest, eig_vec_largest\n",
    "\n",
    "eig, vec = largest_eig(B)\n",
    "\n",
    "\n",
    "print(\"Largets eigenvalue from power {}, eigenvector from power{}, largest eigenvalue from linalg {}, eigenvector from linalg {}\".format(eig_power, vector_power, eig, vec))\n",
    " \n",
    "### END SOLUTION ####"
   ]
  },
  {
   "cell_type": "markdown",
   "metadata": {
    "tags": []
   },
   "source": [
    "## Problem 2\n",
    "\n",
    "Goal: Identify a problem in the implementation of an algorithm and correct it. \n",
    "\n",
    "Background: \n",
    "\n",
    "Here we have implemented the power method but, instead on iterating $k$ until reaching some preset maximum number of iterations, the iterative process stops automatically when a convergence criterion is reached. This criterion is:\n",
    "\n",
    "$$\n",
    "\\sum_{j=0}^{n-1} \\Bigg| \\frac{q_j^{(k)} - q_j^{(k-1)}}{q_j^{(k)}} \\Bigg| \\leq \\epsilon \n",
    "$$\n",
    "\n",
    "It means that the iteration should stop once the relative difference between $\\pmb{q}$ at two successive iterations is negligible ($\\epsilon$ conventionally refers to a value close to $0$).\n",
    "\n",
    "- The function prints the total number of iterations needed to reach the criterion and return the eigenvalue and its corresponding eigenvector.\n",
    "- If the solution fails to converge, the function prints that the convergence failed and returns `None` as eigenvalue and eigenvector.  \n",
    "\n",
    "### 1.1\n",
    "\n",
    "Write a docstring for the function explaining the function inputs and outputs so that future users would better understand its usage.  For examples of how to write docstrings you can check out this link: https://www.geeksforgeeks.org/python-docstrings/"
   ]
  },
  {
   "cell_type": "code",
   "execution_count": 4,
   "metadata": {},
   "outputs": [],
   "source": [
    "def powercrit(A, ceps=1e-8, kmax=50): \n",
    "    ### BEGIN SOLUTION ###\n",
    "    ### END SOLUTION ###\n",
    "    \n",
    "    zs = np.ones(A.shape[0])#the initial guess\n",
    "    \n",
    "    qs = zs/np.linalg.norm(zs)\n",
    "    # This is the power method with the new convergence criterion    \n",
    "    for k in range(kmax): # also keep a max of iteration\n",
    "        zs = A@qs\n",
    "        qskm1 = qs\n",
    "        qs = zs/np.linalg.norm(zs)     \n",
    "        crit = np.sum(np.linalg.norm(qs-qskm1)/np.linalg.norm(qs))\n",
    "        crit_1 = np.sum(np.linalg.norm(qs+qskm1)/np.linalg.norm(qs))\n",
    "        print(crit, qs)\n",
    "        if crit<ceps or crit_1<ceps:\n",
    "            lam = qs.T@A@qs # same as qs@A@qs, Python will transpose\n",
    "            print('Convergence reached after {:d} iterations'.format(k+1))\n",
    "            break\n",
    "    else:     \n",
    "        lam = qs = None\n",
    "        print('Convergence failed')\n",
    "    \n",
    "    return lam, qs\n"
   ]
  },
  {
   "cell_type": "markdown",
   "metadata": {},
   "source": [
    "## 1.2\n",
    "\n",
    "Compare the results of `powercrit(A)`, where `A` is the matrix from Problem 0, to the results from `numpy.linalg.eig(A)`. Write a comment on how you find the comparison."
   ]
  },
  {
   "cell_type": "code",
   "execution_count": 5,
   "metadata": {},
   "outputs": [
    {
     "name": "stdout",
     "output_type": "stream",
     "text": [
      "0.0790278300700733 [0.44421209 0.48212489 0.51726163 0.55015599]\n",
      "0.0002489301676206495 [0.4443962  0.4821814  0.5172089  0.55000734]\n",
      "7.851497309943422e-07 [0.44439562 0.48218122 0.51720907 0.55000781]\n",
      "2.4763975497241033e-09 [0.44439562 0.48218122 0.51720906 0.55000781]\n",
      "Convergence reached after 4 iterations\n",
      "Largets eigenvalue from power 21.316662663461866, eigenvector from power[0.44439562 0.48218122 0.51720906 0.55000781], largest eigenvalue from linalg 21.316662663452043, eigenvector from linalg [0.44439562 0.48218122 0.51720906 0.55000781]\n"
     ]
    }
   ],
   "source": [
    "# The matrix to work on, please keep these parameters\n",
    "# A = testcreate(4, 21)\n",
    "# With $\\epsilon = 10^{-8}$ and the matrix `A = testcreate(4, 21)`, \n",
    "# the solution should be found in $4$ iterations.\n",
    "\n",
    "\n",
    "### BEGIN SOLUTION ###\n",
    "eig_val_1_power, eig_vec_1_power = powercrit(A)\n",
    "\n",
    "eig_1, vec_1 = largest_eig(A)\n",
    "\n",
    "print(\"Largets eigenvalue from power {}, eigenvector from power{}, largest eigenvalue from linalg {}, eigenvector from linalg {}\".format(eig_val_1_power, eig_vec_1_power, eig_1, vec_1))\n",
    "\n",
    "#The comparison is very similiar.\n",
    "### END SOLUTION ###"
   ]
  },
  {
   "cell_type": "markdown",
   "metadata": {},
   "source": [
    "### 1.2\n",
    "\n",
    "The implementation above is problematic. Running `powercrit(-A)` where A is the matrix you created in Problem 0 should give a result that converges after 4 iterations. Instead the code does not converge. \n",
    "\n",
    "i) Find the problem and explain in a few sentences what it is.\n",
    "\n",
    "ii) Edit the function so that the solution converges. Explain in a sentence or two the logic behind the solution.\n",
    "\n",
    "iii) Show that the eigenvalue and eigenvector of your corrected function is consistent with the result from `numpy.linalg.eig`.  \n",
    "\n",
    "Hint: Update your function to print $\\pmb{q}^{(k-1)}$, $\\pmb{q}^{(k)}$ and $\\mu(\\pmb{q}^{(k)})$ at each iteration (and any other parameter that you think could help).\n",
    "\n"
   ]
  },
  {
   "cell_type": "code",
   "execution_count": 6,
   "metadata": {},
   "outputs": [
    {
     "name": "stdout",
     "output_type": "stream",
     "text": [
      "powercrit -A\n",
      "1.9984380405893039 [-0.44421209 -0.48212489 -0.51726163 -0.55015599]\n",
      "1.999999984508443 [0.4443962  0.4821814  0.5172089  0.55000734]\n",
      "1.9999999999998461 [-0.44439562 -0.48218122 -0.51720907 -0.55000781]\n",
      "1.9999999999999998 [0.44439562 0.48218122 0.51720906 0.55000781]\n",
      "Convergence reached after 4 iterations\n"
     ]
    }
   ],
   "source": [
    "print('powercrit -A')\n",
    "eigenval, eigenvec = powercrit(-A)\n",
    "\n",
    "### BEGIN SOLUTION ###\n",
    "#If the eigenvector changes sign then the differance becomes very big, when it should be smal if the sign is kept\n",
    "### END SOLUTION ###"
   ]
  },
  {
   "cell_type": "markdown",
   "metadata": {},
   "source": [
    "### 1.3\n",
    "\n",
    "Add your final version of the function powercrit to the SEE125_eig_lib.py and test that it imports correctly here. You may need to restart the notebook kernel after you update that file."
   ]
  },
  {
   "cell_type": "code",
   "execution_count": 7,
   "metadata": {},
   "outputs": [],
   "source": [
    "### YOUR CODE HERE\n"
   ]
  },
  {
   "cell_type": "markdown",
   "metadata": {},
   "source": [
    "# Problem 4\n",
    "\n",
    "Goal: Evaluate the complexity of an algorithm.\n",
    "\n",
    "The QR method is an iterative method that allows you to find all eigenvalues and eigenvectors of a matrix. The implementation we discussed in class (and which is in the book in section 4.4.3) is a simple one, and not very efficient. \n",
    "\n",
    "Follow the steps below to get a rough estimate of how the runtime scales with size of the input matrix. \n",
    "\n",
    "## 4.1\n",
    "\n",
    "Create diagonal square matrices of different sizes (example starting code below)."
   ]
  },
  {
   "cell_type": "code",
   "execution_count": 8,
   "metadata": {},
   "outputs": [
    {
     "name": "stdout",
     "output_type": "stream",
     "text": [
      "[[2. 0. 0. 0. 0. 0. 0. 0. 0. 0.]\n",
      " [0. 2. 0. 0. 0. 0. 0. 0. 0. 0.]\n",
      " [0. 0. 2. 0. 0. 0. 0. 0. 0. 0.]\n",
      " [0. 0. 0. 2. 0. 0. 0. 0. 0. 0.]\n",
      " [0. 0. 0. 0. 2. 0. 0. 0. 0. 0.]\n",
      " [0. 0. 0. 0. 0. 2. 0. 0. 0. 0.]\n",
      " [0. 0. 0. 0. 0. 0. 2. 0. 0. 0.]\n",
      " [0. 0. 0. 0. 0. 0. 0. 2. 0. 0.]\n",
      " [0. 0. 0. 0. 0. 0. 0. 0. 2. 0.]\n",
      " [0. 0. 0. 0. 0. 0. 0. 0. 0. 2.]]\n"
     ]
    },
    {
     "data": {
      "image/png": "[encoded data removed]",
      "text/plain": [
       "<Figure size 640x480 with 1 Axes>"
      ]
     },
     "metadata": {},
     "output_type": "display_data"
    }
   ],
   "source": [
    "import matplotlib.pyplot as plt\n",
    "import numpy as np\n",
    "%matplotlib inline\n",
    "\n",
    "# Use this simple matrix, which you can scale up for the test\n",
    "A = np.zeros((10,10))\n",
    "# fill the diagonal of the matrix with the value 2\n",
    "np.fill_diagonal(A,2)\n",
    "\n",
    "print(A)\n",
    "\n",
    "plt.imshow(A)\n",
    "plt.show()"
   ]
  },
  {
   "cell_type": "markdown",
   "metadata": {},
   "source": [
    "### 4.2\n",
    "\n",
    "Run the `qrmet` function from the SEE125_eig_lib.py file on each of the matrices and time it. "
   ]
  },
  {
   "cell_type": "code",
   "execution_count": 9,
   "metadata": {},
   "outputs": [
    {
     "name": "stdout",
     "output_type": "stream",
     "text": [
      "{10: 0.037480831146240234, 15: 0.05706191062927246, 20: 0.0920264720916748, 25: 0.1365983486175537, 30: 0.1971142292022705, 35: 0.2610328197479248, 40: 0.3658308982849121, 45: 0.44550085067749023, 50: 0.5510444641113281, 55: 0.682732105255127, 60: 0.7943644523620605}\n"
     ]
    }
   ],
   "source": [
    "import time \n",
    "\n",
    "### BEGIN SOLUTION\n",
    "from SEE125_eig_lib import qrmet\n",
    "\n",
    "def matris(n, number):\n",
    "    \"\"\"Function that makes a diagonal matrix with n rows and colums, and with the number across the diagonal\"\"\"\n",
    "    A = np.zeros((n,n))\n",
    "    np.fill_diagonal(A, number)\n",
    "    return A\n",
    "\n",
    "start_value = 10\n",
    "iterations = 60\n",
    "interval = 5\n",
    "times = {}\n",
    "for i in range(start_value, iterations+1, interval):\n",
    "    start = time.time()\n",
    "    qrmet(matris(i, 2))\n",
    "    end = time.time()\n",
    "    times[i] = end-start\n",
    "\n",
    "print(times)\n",
    "\n",
    "\n",
    "### END SOLUTION ###"
   ]
  },
  {
   "cell_type": "markdown",
   "metadata": {},
   "source": [
    "### 4.3\n",
    "\n",
    "i) Produce a plot comparing the runtimes as a function of input matrix size and comment on what the scaling behavior is. Use a log axis for the runtimes so that one can see the points clearly.\n",
    "\n",
    "ii) Overplot a line corresponding to your best-guess scaling to show the match with the points.\n",
    "\n",
    "iii) Compare the runtimes with those of the numpy function `numpy.linalg.eig` applied on the same matrices.  \n",
    "\n",
    "iv) How does your answer compare to what is found in the operation count section in page 203 of the textbook? "
   ]
  },
  {
   "cell_type": "code",
   "execution_count": 10,
   "metadata": {},
   "outputs": [
    {
     "data": {
      "image/png": "[encoded data removed]",
      "text/plain": [
       "<Figure size 640x480 with 1 Axes>"
      ]
     },
     "metadata": {},
     "output_type": "display_data"
    }
   ],
   "source": [
    "### BEGIN SOLUTION ###\n",
    "plt.yscale(\"log\")\n",
    "plt.xscale(\"log\")\n",
    "\n",
    "plt.xlabel(\"Rows and colums\")\n",
    "plt.ylabel(\"Time (s)\")\n",
    "\n",
    "plt.scatter(times.keys(), times.values(), label = \"Data points\")\n",
    "\n",
    "\n",
    "x = np.linspace(0, max(times.keys()), 100)\n",
    "y = np.power(x, 2) / 2000\n",
    "\n",
    "plt.plot(x, y)\n",
    "\n",
    "plt.plot\n",
    "plt.legend()\n",
    "plt.show()\n",
    "\n",
    "times_linalg = {}\n",
    "for k in range(start_value, iterations+1, interval):\n",
    "    start = time.time()\n",
    "    np.linalg.eig(matris(k, 2))\n",
    "    end = time.time()\n",
    "    times_linalg[k] = end-start\n",
    "\n",
    "\n",
    "\n",
    "\n",
    "### END SOLUTION ###"
   ]
  },
  {
   "cell_type": "markdown",
   "metadata": {},
   "source": [
    "# Problem 5\n",
    "\n",
    "Goal: Get creative! Show us you are able to choose how to design and code a solution to a loosely-defined task. \n",
    "\n",
    "\n",
    "### 5.1\n",
    "\n",
    "Come up with a way to visualize the QR method in Python and explain it so that your fellow students will understand.\n",
    "\n",
    "### 5.2 \n",
    "\n",
    "Write comments in your code so that another student can understand what your vizualization does. If you make plots add labels and titles that explain what is shown.\n",
    "\n",
    "You can choose to focus on any aspect of the algorithm (be it one of the matrices in the iteration, the eigenvalues etc). You can use the `qrmet` function provided in the SEE125_eig_lib.py file as a starting point."
   ]
  },
  {
   "cell_type": "code",
   "execution_count": 14,
   "metadata": {},
   "outputs": [
    {
     "name": "stdout",
     "output_type": "stream",
     "text": [
      "[array([2., 2., 2., 2.]), array([2., 2., 2., 2.]), array([2., 2., 2., 2.]), array([2., 2., 2., 2.]), array([2., 2., 2., 2.]), array([2., 2., 2., 2.]), array([2., 2., 2., 2.]), array([2., 2., 2., 2.]), array([2., 2., 2., 2.]), array([2., 2., 2., 2.]), array([2., 2., 2., 2.]), array([2., 2., 2., 2.]), array([2., 2., 2., 2.]), array([2., 2., 2., 2.]), array([2., 2., 2., 2.]), array([2., 2., 2., 2.]), array([2., 2., 2., 2.]), array([2., 2., 2., 2.]), array([2., 2., 2., 2.]), array([2., 2., 2., 2.]), array([2., 2., 2., 2.]), array([2., 2., 2., 2.]), array([2., 2., 2., 2.]), array([2., 2., 2., 2.]), array([2., 2., 2., 2.]), array([2., 2., 2., 2.]), array([2., 2., 2., 2.]), array([2., 2., 2., 2.]), array([2., 2., 2., 2.]), array([2., 2., 2., 2.]), array([2., 2., 2., 2.]), array([2., 2., 2., 2.]), array([2., 2., 2., 2.]), array([2., 2., 2., 2.]), array([2., 2., 2., 2.]), array([2., 2., 2., 2.]), array([2., 2., 2., 2.]), array([2., 2., 2., 2.]), array([2., 2., 2., 2.]), array([2., 2., 2., 2.]), array([2., 2., 2., 2.]), array([2., 2., 2., 2.]), array([2., 2., 2., 2.]), array([2., 2., 2., 2.]), array([2., 2., 2., 2.]), array([2., 2., 2., 2.]), array([2., 2., 2., 2.]), array([2., 2., 2., 2.]), array([2., 2., 2., 2.]), array([2., 2., 2., 2.]), array([2., 2., 2., 2.]), array([2., 2., 2., 2.]), array([2., 2., 2., 2.]), array([2., 2., 2., 2.]), array([2., 2., 2., 2.]), array([2., 2., 2., 2.]), array([2., 2., 2., 2.]), array([2., 2., 2., 2.]), array([2., 2., 2., 2.]), array([2., 2., 2., 2.]), array([2., 2., 2., 2.]), array([2., 2., 2., 2.]), array([2., 2., 2., 2.]), array([2., 2., 2., 2.]), array([2., 2., 2., 2.]), array([2., 2., 2., 2.]), array([2., 2., 2., 2.]), array([2., 2., 2., 2.]), array([2., 2., 2., 2.]), array([2., 2., 2., 2.]), array([2., 2., 2., 2.]), array([2., 2., 2., 2.]), array([2., 2., 2., 2.]), array([2., 2., 2., 2.]), array([2., 2., 2., 2.]), array([2., 2., 2., 2.]), array([2., 2., 2., 2.]), array([2., 2., 2., 2.]), array([2., 2., 2., 2.]), array([2., 2., 2., 2.]), array([2., 2., 2., 2.]), array([2., 2., 2., 2.]), array([2., 2., 2., 2.]), array([2., 2., 2., 2.]), array([2., 2., 2., 2.]), array([2., 2., 2., 2.]), array([2., 2., 2., 2.]), array([2., 2., 2., 2.]), array([2., 2., 2., 2.]), array([2., 2., 2., 2.]), array([2., 2., 2., 2.]), array([2., 2., 2., 2.]), array([2., 2., 2., 2.]), array([2., 2., 2., 2.]), array([2., 2., 2., 2.]), array([2., 2., 2., 2.]), array([2., 2., 2., 2.]), array([2., 2., 2., 2.]), array([2., 2., 2., 2.])]\n"
     ]
    },
    {
     "ename": "IndexError",
     "evalue": "index 4 is out of bounds for axis 1 with size 4",
     "output_type": "error",
     "traceback": [
      "\u001b[1;31m---------------------------------------------------------------------------\u001b[0m",
      "\u001b[1;31mIndexError\u001b[0m                                Traceback (most recent call last)",
      "Cell \u001b[1;32mIn[14], line 24\u001b[0m\n\u001b[0;32m     22\u001b[0m eigenvalues_history \u001b[38;5;241m=\u001b[39m np\u001b[38;5;241m.\u001b[39marray(b)\n\u001b[0;32m     23\u001b[0m \u001b[38;5;28;01mfor\u001b[39;00m i \u001b[38;5;129;01min\u001b[39;00m \u001b[38;5;28mrange\u001b[39m(kmax):\n\u001b[1;32m---> 24\u001b[0m     plt\u001b[38;5;241m.\u001b[39mplot(\u001b[43meigenvalues_history\u001b[49m\u001b[43m[\u001b[49m\u001b[43m:\u001b[49m\u001b[43m,\u001b[49m\u001b[43m \u001b[49m\u001b[43mi\u001b[49m\u001b[43m]\u001b[49m, label\u001b[38;5;241m=\u001b[39m\u001b[38;5;124mf\u001b[39m\u001b[38;5;124m'\u001b[39m\u001b[38;5;124mEigenvalue \u001b[39m\u001b[38;5;132;01m{\u001b[39;00mi\u001b[38;5;241m+\u001b[39m\u001b[38;5;241m1\u001b[39m\u001b[38;5;132;01m}\u001b[39;00m\u001b[38;5;124m'\u001b[39m)\n",
      "\u001b[1;31mIndexError\u001b[0m: index 4 is out of bounds for axis 1 with size 4"
     ]
    },
    {
     "data": {
      "image/png": "[encoded data removed]",
      "text/plain": [
       "<Figure size 640x480 with 1 Axes>"
      ]
     },
     "metadata": {},
     "output_type": "display_data"
    }
   ],
   "source": [
    "### BEGIN SOLUTION ####\n",
    "from SEE125_eig_lib import qrdec\n",
    "A = matris(4, 2)\n",
    "kmax = 100\n",
    "def qrmet_new(inA,kmax=100):\n",
    "    '''\n",
    "    QR method (page 202)\n",
    "    '''\n",
    "    eigvals = []\n",
    "    A = np.copy(inA)\n",
    "    for k in range(1,kmax):\n",
    "        Q, R = qrdec(A)\n",
    "        A = R@Q\n",
    "        eigvals.append(np.diag(A))\n",
    "        #print(k, np.diag(A))\n",
    "    return eigvals\n",
    "### END SOLUTION ###\n",
    "\n",
    "b = qrmet_new(A)\n",
    "print(b)\n",
    "\n",
    "eigenvalues_history = np.array(b)\n",
    "for i in range(kmax):\n",
    "    plt.plot(eigenvalues_history[:, i], label=f'Eigenvalue {i+1}')\n"
   ]
  },
  {
   "cell_type": "code",
   "execution_count": null,
   "metadata": {},
   "outputs": [
    {
     "name": "stdout",
     "output_type": "stream",
     "text": [
      "[1 1]\n"
     ]
    }
   ],
   "source": [
    "e1 = []\n",
    "e2 = []\n",
    "egen = [e1, e1]\n",
    "for i in egen"
   ]
  }
 ],
 "metadata": {
  "kernelspec": {
   "display_name": "Python 3",
   "language": "python",
   "name": "python3"
  },
  "language_info": {
   "codemirror_mode": {
    "name": "ipython",
    "version": 3
   },
   "file_extension": ".py",
   "mimetype": "text/x-python",
   "name": "python",
   "nbconvert_exporter": "python",
   "pygments_lexer": "ipython3",
   "version": "3.12.0"
  }
 },
 "nbformat": 4,
 "nbformat_minor": 5
}
